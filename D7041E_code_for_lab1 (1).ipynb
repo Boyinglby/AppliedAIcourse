{
 "cells": [
  {
   "cell_type": "markdown",
   "metadata": {
    "id": "nzf0ZFx9g7Sg"
   },
   "source": [
    "# Task 1.1"
   ]
  },
  {
   "cell_type": "markdown",
   "metadata": {
    "id": "mnDXmb0yxy6r"
   },
   "source": [
    "# 1.1.1\n",
    "## For simplicity, I gathered 25 images and resized them to  28x28."
   ]
  },
  {
   "cell_type": "code",
   "execution_count": 1,
   "metadata": {
    "id": "pRCtAAco7dXJ"
   },
   "outputs": [],
   "source": [
    "import cv2\n",
    "import os\n",
    "import numpy as np"
   ]
  },
  {
   "cell_type": "code",
   "execution_count": 3,
   "metadata": {},
   "outputs": [
    {
     "name": "stdout",
     "output_type": "stream",
     "text": [
      "1.26.4\n",
      "C:\\Users\\Bella\\anaconda3\\lib\\site-packages\\numpy\\__init__.py\n"
     ]
    }
   ],
   "source": [
    "print(np.__version__)\n",
    "print(np.__file__)"
   ]
  },
  {
   "cell_type": "code",
   "execution_count": 2,
   "metadata": {
    "id": "NC9H6lax-mGW"
   },
   "outputs": [],
   "source": [
    "dataset = [cv2.imread(os.path.join('../samples', file)) for file in os.listdir('../samples')]"
   ]
  },
  {
   "cell_type": "code",
   "execution_count": 3,
   "metadata": {
    "id": "OSA3qY2pxy6s",
    "outputId": "3067b0dc-a302-4210-af1b-98c64d5927bc",
    "scrolled": true
   },
   "outputs": [
    {
     "data": {
      "text/plain": [
       "(20, 28, 28, 3)"
      ]
     },
     "execution_count": 3,
     "metadata": {},
     "output_type": "execute_result"
    }
   ],
   "source": [
    "dataset = np.stack(dataset, axis=0)\n",
    "dataset.shape"
   ]
  },
  {
   "cell_type": "markdown",
   "metadata": {
    "id": "3azpQu-Fxy6t"
   },
   "source": [
    "# 1.1.2"
   ]
  },
  {
   "cell_type": "code",
   "execution_count": 4,
   "metadata": {
    "id": "B-mdjVrxxy6t",
    "outputId": "17d8c878-a9f8-4f25-eb31-6be4a1616ff8"
   },
   "outputs": [
    {
     "data": {
      "image/png": "[encoded data removed]",
      "text/plain": [
       "<Figure size 640x480 with 1 Axes>"
      ]
     },
     "metadata": {},
     "output_type": "display_data"
    }
   ],
   "source": [
    "import matplotlib.pyplot as plt\n",
    "def plotSample(i, dataset):\n",
    "    plt.imshow(dataset[i])\n",
    "plotSample(1, dataset)\n"
   ]
  },
  {
   "cell_type": "markdown",
   "metadata": {
    "id": "jg4by3hHxy6t"
   },
   "source": [
    "# 1.1.3"
   ]
  },
  {
   "cell_type": "code",
   "execution_count": 9,
   "metadata": {},
   "outputs": [
    {
     "data": {
      "text/plain": [
       "(20, 2352)"
      ]
     },
     "execution_count": 9,
     "metadata": {},
     "output_type": "execute_result"
    }
   ],
   "source": [
    "# reshape the array to have flat image data with one image per row\n",
    "data = dataset.reshape(dataset.shape[0], dataset.shape[1]*dataset.shape[2]*dataset.shape[3])\n",
    "data.shape"
   ]
  },
  {
   "cell_type": "code",
   "execution_count": 12,
   "metadata": {},
   "outputs": [
    {
     "data": {
      "text/plain": [
       "array([[ 86, 108, 110, ...,  96,  89,  96],\n",
       "       [  0,   0,   0, ...,  34,  46,  59],\n",
       "       [253, 253, 253, ..., 253, 253, 253],\n",
       "       ...,\n",
       "       [ 22,  48,  30, ..., 232, 237, 236],\n",
       "       [162, 140, 112, ..., 151, 161, 198],\n",
       "       [  7,   6,  70, ...,  22,  14, 137]], dtype=uint8)"
      ]
     },
     "execution_count": 12,
     "metadata": {},
     "output_type": "execute_result"
    }
   ],
   "source": [
    "data"
   ]
  },
  {
   "cell_type": "code",
   "execution_count": 14,
   "metadata": {},
   "outputs": [],
   "source": [
    "# rescale pixel intensity value to range (0,1)\n",
    "data_norm = data / 255."
   ]
  },
  {
   "cell_type": "code",
   "execution_count": 15,
   "metadata": {},
   "outputs": [
    {
     "data": {
      "text/plain": [
       "array([[0.3372549 , 0.42352941, 0.43137255, ..., 0.37647059, 0.34901961,\n",
       "        0.37647059],\n",
       "       [0.        , 0.        , 0.        , ..., 0.13333333, 0.18039216,\n",
       "        0.23137255],\n",
       "       [0.99215686, 0.99215686, 0.99215686, ..., 0.99215686, 0.99215686,\n",
       "        0.99215686],\n",
       "       ...,\n",
       "       [0.08627451, 0.18823529, 0.11764706, ..., 0.90980392, 0.92941176,\n",
       "        0.9254902 ],\n",
       "       [0.63529412, 0.54901961, 0.43921569, ..., 0.59215686, 0.63137255,\n",
       "        0.77647059],\n",
       "       [0.02745098, 0.02352941, 0.2745098 , ..., 0.08627451, 0.05490196,\n",
       "        0.5372549 ]])"
      ]
     },
     "execution_count": 15,
     "metadata": {},
     "output_type": "execute_result"
    }
   ],
   "source": [
    "data_norm"
   ]
  },
  {
   "cell_type": "code",
   "execution_count": 17,
   "metadata": {
    "id": "V0Wu47ZWxy6u"
   },
   "outputs": [],
   "source": [
    "def center(X):\n",
    "    newX = X - np.mean(X, axis = 0)\n",
    "    return newX\n",
    "\n",
    "dataCentered = center(data_norm)\n"
   ]
  },
  {
   "cell_type": "code",
   "execution_count": 25,
   "metadata": {},
   "outputs": [
    {
     "data": {
      "text/plain": [
       "array([ 3.33066907e-17,  1.33226763e-16, -1.66533454e-17, ...,\n",
       "        4.16333634e-17,  9.99200722e-17, -2.49800181e-17])"
      ]
     },
     "execution_count": 25,
     "metadata": {},
     "output_type": "execute_result"
    }
   ],
   "source": [
    "# check zero centered dataset if the mean is close to zero\n",
    "dataCentered.mean(axis=0)"
   ]
  },
  {
   "cell_type": "code",
   "execution_count": 26,
   "metadata": {},
   "outputs": [
    {
     "data": {
      "text/plain": [
       "(2352, 2352)"
      ]
     },
     "execution_count": 26,
     "metadata": {},
     "output_type": "execute_result"
    }
   ],
   "source": [
    "cov = np.cov(dataCentered, rowvar=False)\n",
    "cov.shape"
   ]
  },
  {
   "cell_type": "code",
   "execution_count": 27,
   "metadata": {},
   "outputs": [],
   "source": [
    "# calculate the singular values and vectors of the covariance matrix and use them to rotate our dataset\n",
    "# this step a bit time consuming \n",
    "U,S,V = np.linalg.svd(cov)"
   ]
  },
  {
   "cell_type": "code",
   "execution_count": 29,
   "metadata": {},
   "outputs": [
    {
     "data": {
      "text/plain": [
       "((2352, 2352), (2352,))"
      ]
     },
     "execution_count": 29,
     "metadata": {},
     "output_type": "execute_result"
    }
   ],
   "source": [
    "U.shape, S.shape"
   ]
  },
  {
   "cell_type": "code",
   "execution_count": 30,
   "metadata": {},
   "outputs": [
    {
     "name": "stdout",
     "output_type": "stream",
     "text": [
      "min: 0.0\n",
      "max: 1.0\n"
     ]
    }
   ],
   "source": [
    "epsilon = 0.1 # added to the singular values to prevent division by zero\n",
    "X_ZCA = U.dot(np.diag(1.0/np.sqrt(S + epsilon))).dot(U.T).dot(dataCentered.T).T\n",
    "X_ZCA_rescaled = (X_ZCA - X_ZCA.min()) / (X_ZCA.max() - X_ZCA.min())\n",
    "print('min:', X_ZCA_rescaled.min())\n",
    "print('max:', X_ZCA_rescaled.max())"
   ]
  },
  {
   "cell_type": "code",
   "execution_count": 35,
   "metadata": {},
   "outputs": [
    {
     "data": {
      "image/png": "[encoded data removed]",
      "text/plain": [
       "<Figure size 150x150 with 1 Axes>"
      ]
     },
     "metadata": {},
     "output_type": "display_data"
    },
    {
     "name": "stdout",
     "output_type": "stream",
     "text": [
      "After whitening:\n",
      "\n",
      "\n"
     ]
    },
    {
     "data": {
      "image/png": "[encoded data removed]",
      "text/plain": [
       "<Figure size 150x150 with 1 Axes>"
      ]
     },
     "metadata": {},
     "output_type": "display_data"
    }
   ],
   "source": [
    "def plotImage(X):\n",
    "    plt.figure(figsize=(1.5, 1.5))\n",
    "    plt.imshow(X.reshape(28,28,3))\n",
    "    plt.show()\n",
    "    plt.close()\n",
    "\n",
    "plotImage(dataset[12, :])\n",
    "print(f'After whitening:\\n\\n')\n",
    "plotImage(X_ZCA_rescaled[12, :])"
   ]
  },
  {
   "cell_type": "markdown",
   "metadata": {
    "id": "WQZRv3Fqxy6u"
   },
   "source": [
    "I have used zero-centered, standardization before, but Zero Component Analysis whitening is new to me and good to practice in this lab"
   ]
  },
  {
   "cell_type": "markdown",
   "metadata": {
    "id": "3H8DhP673O4C"
   },
   "source": [
    "# 1.2.1"
   ]
  },
  {
   "cell_type": "code",
   "execution_count": null,
   "metadata": {
    "id": "3FBACbPJitx3"
   },
   "outputs": [],
   "source": [
    "import numpy as np\n",
    "from matplotlib import pyplot as plt"
   ]
  },
  {
   "cell_type": "code",
   "execution_count": null,
   "metadata": {
    "id": "e9Y7SFs3isPz"
   },
   "outputs": [],
   "source": [
    "# Load the array from the file\n",
    "vecs = np.load('../vecs.npy', allow_pickle=True)"
   ]
  },
  {
   "cell_type": "code",
   "execution_count": null,
   "metadata": {
    "colab": {
     "base_uri": "https://localhost:8080/"
    },
    "id": "JKwh6nW4rtlK",
    "outputId": "405a066a-c54b-490b-a4f0-ac92b23d68ed"
   },
   "outputs": [
    {
     "data": {
      "text/plain": [
       "dtype('O')"
      ]
     },
     "execution_count": 28,
     "metadata": {},
     "output_type": "execute_result"
    }
   ],
   "source": [
    "vecs.dtype"
   ]
  },
  {
   "cell_type": "code",
   "execution_count": null,
   "metadata": {
    "id": "sisVIzU4s0NW"
   },
   "outputs": [],
   "source": [
    "vecs = vecs[()]"
   ]
  },
  {
   "cell_type": "code",
   "execution_count": null,
   "metadata": {
    "colab": {
     "base_uri": "https://localhost:8080/"
    },
    "id": "RBeEtaGWuIQu",
    "outputId": "77eb5865-8664-4fbd-9cdb-55ddb934da26"
   },
   "outputs": [
    {
     "name": "stdout",
     "output_type": "stream",
     "text": [
      "vecs type <class 'dict'>\n",
      "vecs length 9\n"
     ]
    }
   ],
   "source": [
    "print('vecs type', type(vecs))\n",
    "print('vecs length', len(vecs))"
   ]
  },
  {
   "cell_type": "code",
   "execution_count": null,
   "metadata": {
    "colab": {
     "base_uri": "https://localhost:8080/"
    },
    "id": "P5zayOQLuOmg",
    "outputId": "f834587b-1d0e-4c4b-db3b-d419f1727024"
   },
   "outputs": [
    {
     "data": {
      "text/plain": [
       "dict_keys(['1_pos', '2_pos', '3_pos', '4_pos', '5_pos', '6_pos', '7_pos', '8_pos', '9_pos'])"
      ]
     },
     "execution_count": 31,
     "metadata": {},
     "output_type": "execute_result"
    }
   ],
   "source": [
    "vecs.keys()"
   ]
  },
  {
   "cell_type": "code",
   "execution_count": null,
   "metadata": {
    "colab": {
     "base_uri": "https://localhost:8080/"
    },
    "id": "oEHdRUy-un_O",
    "outputId": "23a001a1-aa51-4de9-99de-b7368dfc17a0"
   },
   "outputs": [
    {
     "data": {
      "text/plain": [
       "dict_keys([0, 1, 2, 3, 4, 5, 6, 7, 8, 9])"
      ]
     },
     "execution_count": 32,
     "metadata": {},
     "output_type": "execute_result"
    }
   ],
   "source": [
    "pos1 = vecs['1_pos']\n",
    "pos1.keys()"
   ]
  },
  {
   "cell_type": "code",
   "execution_count": null,
   "metadata": {
    "colab": {
     "base_uri": "https://localhost:8080/"
    },
    "id": "LChPduy7vQxa",
    "outputId": "499cfda1-c55e-4782-eaac-c2d9e92b942f"
   },
   "outputs": [
    {
     "data": {
      "text/plain": [
       "122"
      ]
     },
     "execution_count": 33,
     "metadata": {},
     "output_type": "execute_result"
    }
   ],
   "source": [
    "len(pos1[0])"
   ]
  },
  {
   "cell_type": "code",
   "execution_count": null,
   "metadata": {
    "colab": {
     "base_uri": "https://localhost:8080/"
    },
    "id": "4Yy4QtqRvZ_d",
    "outputId": "50453a6c-b410-41e2-d9c4-61b740e00f76"
   },
   "outputs": [
    {
     "data": {
      "text/plain": [
       "(1024,)"
      ]
     },
     "execution_count": 34,
     "metadata": {},
     "output_type": "execute_result"
    }
   ],
   "source": [
    "pos1FirstElement = pos1[0][0]\n",
    "pos1FirstElement.shape"
   ]
  },
  {
   "cell_type": "markdown",
   "metadata": {
    "id": "jg1nOmn63K7K"
   },
   "source": [
    "# 1.2.2"
   ]
  },
  {
   "cell_type": "code",
   "execution_count": null,
   "metadata": {
    "id": "T7g9ylrh17-U"
   },
   "outputs": [],
   "source": [
    "def chosenPosData(pos):\n",
    "  labelarray = None\n",
    "  dataarray = None\n",
    "  posdict = vecs[pos]\n",
    "  for key, value in posdict.items():\n",
    "    if isinstance(labelarray, np.ndarray):\n",
    "      labelarray = np.hstack((labelarray, np.full((len(value),), key)))\n",
    "      dataarray = np.vstack((dataarray, np.array(value)))\n",
    "\n",
    "    else:\n",
    "      labelarray = np.full((len(value),), key)\n",
    "      dataarray = np.array(value)\n",
    "  return labelarray, dataarray"
   ]
  },
  {
   "cell_type": "code",
   "execution_count": null,
   "metadata": {
    "id": "PnMLe3sH0JKw"
   },
   "outputs": [],
   "source": [
    "label_pos1, data_pos1 = chosenPosData('1_pos')"
   ]
  },
  {
   "cell_type": "code",
   "execution_count": null,
   "metadata": {
    "colab": {
     "base_uri": "https://localhost:8080/"
    },
    "id": "YHd_CqM128ic",
    "outputId": "0b61c69c-f465-4bd7-ba41-233a91ea8280"
   },
   "outputs": [
    {
     "data": {
      "text/plain": [
       "(1258,)"
      ]
     },
     "execution_count": 37,
     "metadata": {},
     "output_type": "execute_result"
    }
   ],
   "source": [
    "label_pos1.shape"
   ]
  },
  {
   "cell_type": "code",
   "execution_count": null,
   "metadata": {
    "colab": {
     "base_uri": "https://localhost:8080/"
    },
    "id": "m2K7GjNG2_M7",
    "outputId": "3ded28df-d59d-474c-9bc6-8eccb69e8376"
   },
   "outputs": [
    {
     "data": {
      "text/plain": [
       "(1258, 1024)"
      ]
     },
     "execution_count": 38,
     "metadata": {},
     "output_type": "execute_result"
    }
   ],
   "source": [
    "data_pos1.shape"
   ]
  },
  {
   "cell_type": "markdown",
   "metadata": {
    "id": "BNoQGkFy3Rjp"
   },
   "source": [
    "# 1.2.3"
   ]
  },
  {
   "cell_type": "code",
   "execution_count": null,
   "metadata": {
    "id": "lFUSBx5b4DjR"
   },
   "outputs": [],
   "source": [
    "np.random.seed(42)\n",
    "\n",
    "permut = np.random.permutation(len(data_pos1))\n",
    "permuted_data_pos1 = data_pos1[permut]\n",
    "permuted_label_pos1 = label_pos1[permut]"
   ]
  },
  {
   "cell_type": "code",
   "execution_count": null,
   "metadata": {
    "colab": {
     "base_uri": "https://localhost:8080/"
    },
    "id": "494hjzLQ4bYJ",
    "outputId": "fbea5216-f6f4-41e9-902f-567129170b9c"
   },
   "outputs": [
    {
     "data": {
      "text/plain": [
       "(1258,)"
      ]
     },
     "execution_count": 40,
     "metadata": {},
     "output_type": "execute_result"
    }
   ],
   "source": [
    "permuted_label_pos1.shape"
   ]
  },
  {
   "cell_type": "markdown",
   "metadata": {
    "id": "DLckpuraiut6"
   },
   "source": [
    "# Task 2.1"
   ]
  },
  {
   "cell_type": "markdown",
   "metadata": {
    "id": "AOwcWQneln-0"
   },
   "source": [
    "# 2.1.1"
   ]
  },
  {
   "cell_type": "code",
   "execution_count": 1,
   "metadata": {
    "id": "yGlvKKPPdghp"
   },
   "outputs": [],
   "source": [
    "import numpy as np\n",
    "from matplotlib import pyplot as plt"
   ]
  },
  {
   "cell_type": "code",
   "execution_count": 2,
   "metadata": {
    "id": "dU9He9Dydghq"
   },
   "outputs": [],
   "source": [
    "from keras.datasets import mnist"
   ]
  },
  {
   "cell_type": "code",
   "execution_count": 3,
   "metadata": {
    "colab": {
     "base_uri": "https://localhost:8080/"
    },
    "id": "rr3uSssidghq",
    "outputId": "7c3ec9ea-123d-40d5-bbbd-8182f1e74399"
   },
   "outputs": [
    {
     "name": "stdout",
     "output_type": "stream",
     "text": [
      "Downloading data from https://storage.googleapis.com/tensorflow/tf-keras-datasets/mnist.npz\n",
      "\u001b[1m11490434/11490434\u001b[0m \u001b[32m━━━━━━━━━━━━━━━━━━━━\u001b[0m\u001b[37m\u001b[0m \u001b[1m0s\u001b[0m 0us/step\n"
     ]
    }
   ],
   "source": [
    "(Xtr, Ltr), (X_test, L_test)=mnist.load_data()"
   ]
  },
  {
   "cell_type": "code",
   "execution_count": 5,
   "metadata": {
    "colab": {
     "base_uri": "https://localhost:8080/"
    },
    "id": "P81Qix2Ndghq",
    "outputId": "63188c34-2628-421b-fb0a-397050d655bd"
   },
   "outputs": [
    {
     "data": {
      "text/plain": [
       "(60000, 28, 28)"
      ]
     },
     "execution_count": 5,
     "metadata": {},
     "output_type": "execute_result"
    }
   ],
   "source": [
    "Xtr.shape"
   ]
  },
  {
   "cell_type": "code",
   "execution_count": 4,
   "metadata": {
    "colab": {
     "base_uri": "https://localhost:8080/",
     "height": 452
    },
    "id": "re6zJZG2dghr",
    "outputId": "e7328d0e-2035-4732-ebee-605b3b1c2296"
   },
   "outputs": [
    {
     "data": {
      "image/png": "[encoded data removed]",
      "text/plain": [
       "<Figure size 640x480 with 1 Axes>"
      ]
     },
     "metadata": {},
     "output_type": "display_data"
    }
   ],
   "source": [
    "Image=Xtr[0,:,:]\n",
    "Label=Ltr[0]\n",
    "\n",
    "\n",
    "plt.title('Label is {Label}'.format(Label=Label))\n",
    "plt.imshow(Image)\n",
    "\n",
    "plt.show()\n",
    "plt.close()\n"
   ]
  },
  {
   "cell_type": "code",
   "execution_count": 6,
   "metadata": {
    "colab": {
     "base_uri": "https://localhost:8080/",
     "height": 1000
    },
    "id": "_jgRALpzdghr",
    "outputId": "21777b25-e109-4de1-e5ca-b93be8db76c2"
   },
   "outputs": [
    {
     "data": {
      "image/png": "[encoded data removed]",
      "text/plain": [
       "<Figure size 1500x1500 with 4 Axes>"
      ]
     },
     "metadata": {},
     "output_type": "display_data"
    }
   ],
   "source": [
    "fig, ax=plt.subplots(nrows=1, ncols=2, figsize=(15,15))\n",
    "ax0=plt.subplot(2,2,1)\n",
    "ax1=plt.subplot(2,2,2)\n",
    "\n",
    "Image=Xtr[0,:,:]\n",
    "Label=Ltr[0]\n",
    "Image1=Xtr[1,:,:]\n",
    "Label1=Ltr[1]\n",
    "\n",
    "\n",
    "ax0.set_title('Label is {Label}'.format(Label=Label))\n",
    "ax0.imshow(Image)\n",
    "ax1.set_title('Label is {Label}'.format(Label=Label1))\n",
    "ax1.imshow(Image1)\n",
    "\n",
    "\n",
    "plt.show()\n",
    "plt.close()\n"
   ]
  },
  {
   "cell_type": "code",
   "execution_count": 7,
   "metadata": {
    "colab": {
     "base_uri": "https://localhost:8080/"
    },
    "id": "JrWnWHkUdghr",
    "outputId": "fd20dfb3-e593-43b2-caff-1c80310649c1"
   },
   "outputs": [
    {
     "data": {
      "text/plain": [
       "784"
      ]
     },
     "execution_count": 7,
     "metadata": {},
     "output_type": "execute_result"
    }
   ],
   "source": [
    "28*28"
   ]
  },
  {
   "cell_type": "code",
   "execution_count": 8,
   "metadata": {
    "colab": {
     "base_uri": "https://localhost:8080/"
    },
    "id": "kPtGfm6kdghr",
    "outputId": "babc1bcf-419b-4217-cbcc-4345d98c68b1"
   },
   "outputs": [
    {
     "data": {
      "text/plain": [
       "(500, 784)"
      ]
     },
     "execution_count": 8,
     "metadata": {},
     "output_type": "execute_result"
    }
   ],
   "source": [
    "#Traing phase\n",
    "num_sample=500\n",
    "Tr_set=Xtr[:num_sample,:,:]\n",
    "Ltr_set=Ltr[:num_sample]\n",
    "\n",
    "Tr_set=Tr_set.reshape(num_sample,Tr_set.shape[1]*Tr_set.shape[2])\n",
    "\n",
    "#Tr_set=Tr_set.reshape(num_sample,Tr_set.shape[1]*Tr_set.shape[2]).astype()\n",
    "Tr_set.shape"
   ]
  },
  {
   "cell_type": "code",
   "execution_count": 9,
   "metadata": {
    "id": "AHZ7Nmvedghs"
   },
   "outputs": [],
   "source": [
    "def predict(X):\n",
    "    num_test=X.shape[0]\n",
    "    Lpred=np.zeros(num_test, dtype=Ltr_set.dtype)\n",
    "\n",
    "    for i in range(num_test):\n",
    "        distances=np.sum(np.abs(Tr_set-X[i,:]),axis=1)\n",
    "\n",
    "        min_index= np.argmin(distances)\n",
    "        Lpred[i]=Ltr_set[min_index]\n",
    "    return Lpred"
   ]
  },
  {
   "cell_type": "code",
   "execution_count": 10,
   "metadata": {
    "colab": {
     "base_uri": "https://localhost:8080/"
    },
    "id": "e1w0PLaMdghs",
    "outputId": "2e39bb32-ac09-4e7f-cb4d-10df9fd89598"
   },
   "outputs": [
    {
     "name": "stdout",
     "output_type": "stream",
     "text": [
      "Accuracy: 0.2649\n"
     ]
    }
   ],
   "source": [
    "Test_images=X_test.reshape(X_test.shape[0],X_test.shape[1]* X_test.shape[2])\n",
    "Labels_predicted=predict(Test_images)\n",
    "\n",
    "print(\"Accuracy:\", np.mean(Labels_predicted==L_test))\n",
    "\n"
   ]
  },
  {
   "cell_type": "markdown",
   "metadata": {
    "id": "tNWkJiJ6lrUU"
   },
   "source": [
    "# 2.1.2"
   ]
  },
  {
   "cell_type": "code",
   "execution_count": 11,
   "metadata": {
    "colab": {
     "base_uri": "https://localhost:8080/"
    },
    "id": "GAuhwykzdghs",
    "outputId": "c0a7b8e6-1bf0-40af-e7d5-d151720b3092"
   },
   "outputs": [
    {
     "name": "stdout",
     "output_type": "stream",
     "text": [
      "Accuracy: 0.19\n"
     ]
    }
   ],
   "source": [
    "def predict_L2(X):\n",
    "    num_test=X.shape[0]\n",
    "    Lpred=np.zeros(num_test, dtype=Ltr_set.dtype)\n",
    "\n",
    "    for i in range(num_test):\n",
    "        distances=np.sum((Tr_set-X[i,:])**2,axis=1)\n",
    "\n",
    "        min_index= np.argmin(distances)\n",
    "        Lpred[i]=Ltr_set[min_index]\n",
    "    return Lpred\n",
    "\n",
    "Test_images=X_test.reshape(X_test.shape[0],X_test.shape[1]* X_test.shape[2])\n",
    "Labels_predicted=predict_L2(Test_images)\n",
    "\n",
    "print(\"Accuracy:\", np.mean(Labels_predicted==L_test))"
   ]
  },
  {
   "cell_type": "markdown",
   "metadata": {
    "id": "iFmrbz63mgEP"
   },
   "source": [
    "# 2.1.3 Uint problem lead to super low accuracy"
   ]
  },
  {
   "cell_type": "code",
   "execution_count": 12,
   "metadata": {
    "id": "EsO3TS7ns7y6"
   },
   "outputs": [],
   "source": [
    "Tr_set=Tr_set.astype('int32')\n",
    "Test_images=Test_images.astype('int32')"
   ]
  },
  {
   "cell_type": "code",
   "execution_count": 13,
   "metadata": {
    "colab": {
     "base_uri": "https://localhost:8080/"
    },
    "id": "cPCQHhfOtwd7",
    "outputId": "fe4e1934-a1d3-4662-d077-199f93aa9b8f"
   },
   "outputs": [
    {
     "name": "stdout",
     "output_type": "stream",
     "text": [
      "Accuracy: 0.811\n"
     ]
    }
   ],
   "source": [
    "def predict(X):\n",
    "    num_test=X.shape[0]\n",
    "    Lpred=np.zeros(num_test, dtype=Ltr_set.dtype)\n",
    "\n",
    "    for i in range(num_test):\n",
    "        distances=np.sum(np.abs(Tr_set-X[i,:]),axis=1)\n",
    "\n",
    "        min_index= np.argmin(distances)\n",
    "        Lpred[i]=Ltr_set[min_index]\n",
    "    return Lpred\n",
    "\n",
    "Labels_predicted=predict(Test_images)\n",
    "\n",
    "print(\"Accuracy:\", np.mean(Labels_predicted==L_test))"
   ]
  },
  {
   "cell_type": "code",
   "execution_count": 14,
   "metadata": {
    "colab": {
     "base_uri": "https://localhost:8080/"
    },
    "id": "NRYkSI8wuEUb",
    "outputId": "724c9685-37cd-4a7d-a80d-a404acaecdd7"
   },
   "outputs": [
    {
     "name": "stdout",
     "output_type": "stream",
     "text": [
      "Accuracy: 0.8294\n"
     ]
    }
   ],
   "source": [
    "def predict_L2(X):\n",
    "    num_test=X.shape[0]\n",
    "    Lpred=np.zeros(num_test, dtype=Ltr_set.dtype)\n",
    "\n",
    "    for i in range(num_test):\n",
    "        distances=np.sum((Tr_set-X[i,:])**2,axis=1)\n",
    "\n",
    "        min_index= np.argmin(distances)\n",
    "        Lpred[i]=Ltr_set[min_index]\n",
    "    return Lpred\n",
    "\n",
    "Labels_predicted=predict_L2(Test_images)\n",
    "\n",
    "print(\"Accuracy:\", np.mean(Labels_predicted==L_test))"
   ]
  },
  {
   "cell_type": "markdown",
   "metadata": {
    "id": "5amkP1hmuNM8"
   },
   "source": [
    "# 2.1.4"
   ]
  },
  {
   "cell_type": "code",
   "execution_count": 15,
   "metadata": {
    "id": "GSGKrnNgwvVZ"
   },
   "outputs": [],
   "source": [
    "from statistics import mode"
   ]
  },
  {
   "cell_type": "code",
   "execution_count": 16,
   "metadata": {
    "id": "3L1qaUoyvCix"
   },
   "outputs": [],
   "source": [
    "def predict_L2_K(X,K):\n",
    "    num_test=X.shape[0]\n",
    "    Lpred=np.zeros(num_test, dtype=Ltr_set.dtype)\n",
    "\n",
    "    for i in range(num_test):\n",
    "        distances=np.sum((Tr_set-X[i,:])**2,axis=1)\n",
    "\n",
    "        Kmin_index= np.argpartition(distances, K)[:K]\n",
    "        Lpred[i]=mode(Ltr_set[Kmin_index])\n",
    "\n",
    "    return Lpred"
   ]
  },
  {
   "cell_type": "code",
   "execution_count": 17,
   "metadata": {
    "colab": {
     "base_uri": "https://localhost:8080/"
    },
    "id": "Rom7t-kxw5cC",
    "outputId": "bf19d90b-12c4-44c7-a593-e923eed05b01"
   },
   "outputs": [
    {
     "name": "stdout",
     "output_type": "stream",
     "text": [
      "Accuracy: 0.8134\n"
     ]
    }
   ],
   "source": [
    "Labels_predicted=predict_L2_K(Test_images,3)\n",
    "\n",
    "print(\"Accuracy:\", np.mean(Labels_predicted==L_test))"
   ]
  },
  {
   "cell_type": "markdown",
   "metadata": {
    "id": "CdAdpAiryRG9"
   },
   "source": [
    "# 2.2"
   ]
  },
  {
   "cell_type": "markdown",
   "metadata": {
    "id": "h8WhvjM0NhSV"
   },
   "source": [
    "# 2.2.1"
   ]
  },
  {
   "cell_type": "code",
   "execution_count": 18,
   "metadata": {
    "id": "cH4OoD0KAHQw"
   },
   "outputs": [],
   "source": [
    "def predict_L2_K(train_set, train_label, test_set,K):\n",
    "    num_test=test_set.shape[0]\n",
    "    Lpred=np.zeros(num_test, dtype=train_label.dtype)\n",
    "\n",
    "    for i in range(num_test):\n",
    "        distances=np.sum((train_set-test_set[i,:])**2,axis=1)\n",
    "\n",
    "        Kmin_index= np.argpartition(distances, K)[:K]\n",
    "        Lpred[i]=mode(train_label[Kmin_index])\n",
    "\n",
    "    return Lpred"
   ]
  },
  {
   "cell_type": "code",
   "execution_count": 19,
   "metadata": {
    "id": "a2yxHm7xyQud"
   },
   "outputs": [],
   "source": [
    "def kfold_split(train_set, train_label, k):\n",
    "  kfold_set = []\n",
    "  kfold_label = []\n",
    "  fold_size = len(train_set)//k\n",
    "  for i in range(k-1):\n",
    "    kfold_label.append(train_label[i*fold_size:(i+1)*fold_size])\n",
    "    kfold_set.append(train_set[i*fold_size:(i+1)*fold_size])\n",
    "  kfold_set.append(train_set[(k-1)*fold_size:])\n",
    "  kfold_label.append(train_label[(k-1)*fold_size:])\n",
    "  return kfold_set, kfold_label\n"
   ]
  },
  {
   "cell_type": "code",
   "execution_count": 20,
   "metadata": {
    "id": "3lHUABSY-ABq"
   },
   "outputs": [],
   "source": [
    "def optimal_K(kfold_set, kfold_label, Krange):\n",
    "  acc_avg_lst = []\n",
    "  for K in Krange:\n",
    "    acc_avg = 0\n",
    "    for i in range(len(kfold_set)):\n",
    "      kfold_set_copy = kfold_set.copy()\n",
    "      kfold_label_copy = kfold_label.copy()\n",
    "\n",
    "      test = kfold_set[i]\n",
    "      test_label = kfold_label[i]\n",
    "\n",
    "      train = kfold_set_copy.pop(i)\n",
    "      train_label = kfold_label_copy.pop(i)\n",
    "\n",
    "      Labels_predicted = predict_L2_K(train, train_label, test, K)\n",
    "      # print('predict',Labels_predicted)\n",
    "      # print('actual',test_label)\n",
    "      acc = np.mean(Labels_predicted==test_label)\n",
    "\n",
    "      acc_avg += acc\n",
    "    acc_avg /= len(kfold_set)\n",
    "    acc_avg_lst.append(acc_avg)\n",
    "\n",
    "  return acc_avg_lst\n",
    "\n"
   ]
  },
  {
   "cell_type": "code",
   "execution_count": 21,
   "metadata": {
    "id": "wvjD-rn-KfRR"
   },
   "outputs": [],
   "source": [
    "train_set = Tr_set\n",
    "train_label = Ltr_set\n",
    "kfold_set, kfold_label = kfold_split(train_set, train_label, 3)"
   ]
  },
  {
   "cell_type": "code",
   "execution_count": 22,
   "metadata": {
    "colab": {
     "base_uri": "https://localhost:8080/"
    },
    "id": "BUXm5M9kCtKt",
    "outputId": "82d49565-75c7-4252-ca10-50f22f812850"
   },
   "outputs": [
    {
     "data": {
      "text/plain": [
       "[1.0,\n",
       " 1.0,\n",
       " 0.9059810671256453,\n",
       " 0.891877031937273,\n",
       " 0.8599158538917576,\n",
       " 0.8439233122968064,\n",
       " 0.8319229298144961]"
      ]
     },
     "execution_count": 22,
     "metadata": {},
     "output_type": "execute_result"
    }
   ],
   "source": [
    "optimal_K(kfold_set, kfold_label, range(1,8))"
   ]
  },
  {
   "cell_type": "markdown",
   "metadata": {
    "id": "o-NHCGSQNZfE"
   },
   "source": [
    "# 2.2.2"
   ]
  },
  {
   "cell_type": "markdown",
   "metadata": {
    "id": "e_dnRS-ILvpZ"
   },
   "source": [
    "use optimal K on test set (I tried K=1 and K=2, both give same accuracy on test dataset 0.8294)"
   ]
  },
  {
   "cell_type": "code",
   "execution_count": 23,
   "metadata": {
    "colab": {
     "base_uri": "https://localhost:8080/"
    },
    "id": "VfOTDccOLSac",
    "outputId": "f839ae83-45a3-4313-e5c7-1ebc42915a7c"
   },
   "outputs": [
    {
     "name": "stdout",
     "output_type": "stream",
     "text": [
      "Accuracy: 0.8294\n"
     ]
    }
   ],
   "source": [
    "test_predicted = predict_L2_K(train_set, train_label, Test_images, 1)\n",
    "print(\"Accuracy:\", np.mean(test_predicted==L_test))"
   ]
  },
  {
   "cell_type": "markdown",
   "metadata": {
    "id": "C55NP6KwNTOK"
   },
   "source": [
    "# Task 3.1"
   ]
  },
  {
   "cell_type": "markdown",
   "metadata": {
    "id": "aUcdLRNCNWYe"
   },
   "source": [
    "# 3.1.1"
   ]
  },
  {
   "cell_type": "code",
   "execution_count": 5,
   "metadata": {
    "id": "RN8UoTWpNlm0"
   },
   "outputs": [
    {
     "ename": "ImportError",
     "evalue": "DLL load failed while importing _multiarray_umath: The specified module could not be found.",
     "output_type": "error",
     "traceback": [
      "\u001b[1;31m---------------------------------------------------------------------------\u001b[0m",
      "\u001b[1;31mImportError\u001b[0m                               Traceback (most recent call last)",
      "\u001b[1;31mImportError\u001b[0m: DLL load failed while importing _multiarray_umath: The specified module could not be found."
     ]
    },
    {
     "ename": "ImportError",
     "evalue": "numpy._core.multiarray failed to import",
     "output_type": "error",
     "traceback": [
      "\u001b[1;31m---------------------------------------------------------------------------\u001b[0m",
      "\u001b[1;31mImportError\u001b[0m                               Traceback (most recent call last)",
      "\u001b[1;32m~\\AppData\\Local\\Temp\\ipykernel_23776\\2800523299.py\u001b[0m in \u001b[0;36m<module>\u001b[1;34m\u001b[0m\n\u001b[0;32m      1\u001b[0m \u001b[1;32mimport\u001b[0m \u001b[0mnumpy\u001b[0m \u001b[1;32mas\u001b[0m \u001b[0mnp\u001b[0m\u001b[1;33m\u001b[0m\u001b[1;33m\u001b[0m\u001b[0m\n\u001b[1;32m----> 2\u001b[1;33m \u001b[1;32mfrom\u001b[0m \u001b[0msklearn\u001b[0m\u001b[1;33m.\u001b[0m\u001b[0msvm\u001b[0m \u001b[1;32mimport\u001b[0m \u001b[0mSVC\u001b[0m\u001b[1;33m\u001b[0m\u001b[1;33m\u001b[0m\u001b[0m\n\u001b[0m\u001b[0;32m      3\u001b[0m \u001b[1;32mimport\u001b[0m \u001b[0mmatplotlib\u001b[0m\u001b[1;33m.\u001b[0m\u001b[0mpyplot\u001b[0m \u001b[1;32mas\u001b[0m \u001b[0mplt\u001b[0m\u001b[1;33m\u001b[0m\u001b[1;33m\u001b[0m\u001b[0m\n\u001b[0;32m      4\u001b[0m \u001b[1;32mfrom\u001b[0m \u001b[0msklearn\u001b[0m \u001b[1;32mimport\u001b[0m \u001b[0msvm\u001b[0m\u001b[1;33m,\u001b[0m \u001b[0mdatasets\u001b[0m\u001b[1;33m\u001b[0m\u001b[1;33m\u001b[0m\u001b[0m\n\u001b[0;32m      5\u001b[0m \u001b[1;32mfrom\u001b[0m \u001b[0msklearn\u001b[0m\u001b[1;33m.\u001b[0m\u001b[0mmodel_selection\u001b[0m \u001b[1;32mimport\u001b[0m \u001b[0mtrain_test_split\u001b[0m\u001b[1;33m\u001b[0m\u001b[1;33m\u001b[0m\u001b[0m\n",
      "\u001b[1;32m~\\anaconda3\\lib\\site-packages\\sklearn\\__init__.py\u001b[0m in \u001b[0;36m<module>\u001b[1;34m\u001b[0m\n\u001b[0;32m     80\u001b[0m     \u001b[1;32mfrom\u001b[0m \u001b[1;33m.\u001b[0m \u001b[1;32mimport\u001b[0m \u001b[0m_distributor_init\u001b[0m  \u001b[1;31m# noqa: F401\u001b[0m\u001b[1;33m\u001b[0m\u001b[1;33m\u001b[0m\u001b[0m\n\u001b[0;32m     81\u001b[0m     \u001b[1;32mfrom\u001b[0m \u001b[1;33m.\u001b[0m \u001b[1;32mimport\u001b[0m \u001b[0m__check_build\u001b[0m  \u001b[1;31m# noqa: F401\u001b[0m\u001b[1;33m\u001b[0m\u001b[1;33m\u001b[0m\u001b[0m\n\u001b[1;32m---> 82\u001b[1;33m     \u001b[1;32mfrom\u001b[0m \u001b[1;33m.\u001b[0m\u001b[0mbase\u001b[0m \u001b[1;32mimport\u001b[0m \u001b[0mclone\u001b[0m\u001b[1;33m\u001b[0m\u001b[1;33m\u001b[0m\u001b[0m\n\u001b[0m\u001b[0;32m     83\u001b[0m     \u001b[1;32mfrom\u001b[0m \u001b[1;33m.\u001b[0m\u001b[0mutils\u001b[0m\u001b[1;33m.\u001b[0m\u001b[0m_show_versions\u001b[0m \u001b[1;32mimport\u001b[0m \u001b[0mshow_versions\u001b[0m\u001b[1;33m\u001b[0m\u001b[1;33m\u001b[0m\u001b[0m\n\u001b[0;32m     84\u001b[0m \u001b[1;33m\u001b[0m\u001b[0m\n",
      "\u001b[1;32m~\\anaconda3\\lib\\site-packages\\sklearn\\base.py\u001b[0m in \u001b[0;36m<module>\u001b[1;34m\u001b[0m\n\u001b[0;32m     15\u001b[0m \u001b[1;32mfrom\u001b[0m \u001b[1;33m.\u001b[0m \u001b[1;32mimport\u001b[0m \u001b[0m__version__\u001b[0m\u001b[1;33m\u001b[0m\u001b[1;33m\u001b[0m\u001b[0m\n\u001b[0;32m     16\u001b[0m \u001b[1;32mfrom\u001b[0m \u001b[1;33m.\u001b[0m\u001b[0m_config\u001b[0m \u001b[1;32mimport\u001b[0m \u001b[0mget_config\u001b[0m\u001b[1;33m\u001b[0m\u001b[1;33m\u001b[0m\u001b[0m\n\u001b[1;32m---> 17\u001b[1;33m \u001b[1;32mfrom\u001b[0m \u001b[1;33m.\u001b[0m\u001b[0mutils\u001b[0m \u001b[1;32mimport\u001b[0m \u001b[0m_IS_32BIT\u001b[0m\u001b[1;33m\u001b[0m\u001b[1;33m\u001b[0m\u001b[0m\n\u001b[0m\u001b[0;32m     18\u001b[0m from .utils._tags import (\n\u001b[0;32m     19\u001b[0m     \u001b[0m_DEFAULT_TAGS\u001b[0m\u001b[1;33m,\u001b[0m\u001b[1;33m\u001b[0m\u001b[1;33m\u001b[0m\u001b[0m\n",
      "\u001b[1;32m~\\anaconda3\\lib\\site-packages\\sklearn\\utils\\__init__.py\u001b[0m in \u001b[0;36m<module>\u001b[1;34m\u001b[0m\n\u001b[0;32m     19\u001b[0m \u001b[1;32mimport\u001b[0m \u001b[0mwarnings\u001b[0m\u001b[1;33m\u001b[0m\u001b[1;33m\u001b[0m\u001b[0m\n\u001b[0;32m     20\u001b[0m \u001b[1;32mimport\u001b[0m \u001b[0mnumpy\u001b[0m \u001b[1;32mas\u001b[0m \u001b[0mnp\u001b[0m\u001b[1;33m\u001b[0m\u001b[1;33m\u001b[0m\u001b[0m\n\u001b[1;32m---> 21\u001b[1;33m \u001b[1;32mfrom\u001b[0m \u001b[0mscipy\u001b[0m\u001b[1;33m.\u001b[0m\u001b[0msparse\u001b[0m \u001b[1;32mimport\u001b[0m \u001b[0missparse\u001b[0m\u001b[1;33m\u001b[0m\u001b[1;33m\u001b[0m\u001b[0m\n\u001b[0m\u001b[0;32m     22\u001b[0m \u001b[1;33m\u001b[0m\u001b[0m\n\u001b[0;32m     23\u001b[0m \u001b[1;32mfrom\u001b[0m \u001b[1;33m.\u001b[0m\u001b[0mmurmurhash\u001b[0m \u001b[1;32mimport\u001b[0m \u001b[0mmurmurhash3_32\u001b[0m\u001b[1;33m\u001b[0m\u001b[1;33m\u001b[0m\u001b[0m\n",
      "\u001b[1;32m~\\anaconda3\\lib\\site-packages\\scipy\\sparse\\__init__.py\u001b[0m in \u001b[0;36m<module>\u001b[1;34m\u001b[0m\n\u001b[0;32m    293\u001b[0m \u001b[1;33m\u001b[0m\u001b[0m\n\u001b[0;32m    294\u001b[0m \u001b[1;32mfrom\u001b[0m \u001b[1;33m.\u001b[0m\u001b[0m_base\u001b[0m \u001b[1;32mimport\u001b[0m \u001b[1;33m*\u001b[0m\u001b[1;33m\u001b[0m\u001b[1;33m\u001b[0m\u001b[0m\n\u001b[1;32m--> 295\u001b[1;33m \u001b[1;32mfrom\u001b[0m \u001b[1;33m.\u001b[0m\u001b[0m_csr\u001b[0m \u001b[1;32mimport\u001b[0m \u001b[1;33m*\u001b[0m\u001b[1;33m\u001b[0m\u001b[1;33m\u001b[0m\u001b[0m\n\u001b[0m\u001b[0;32m    296\u001b[0m \u001b[1;32mfrom\u001b[0m \u001b[1;33m.\u001b[0m\u001b[0m_csc\u001b[0m \u001b[1;32mimport\u001b[0m \u001b[1;33m*\u001b[0m\u001b[1;33m\u001b[0m\u001b[1;33m\u001b[0m\u001b[0m\n\u001b[0;32m    297\u001b[0m \u001b[1;32mfrom\u001b[0m \u001b[1;33m.\u001b[0m\u001b[0m_lil\u001b[0m \u001b[1;32mimport\u001b[0m \u001b[1;33m*\u001b[0m\u001b[1;33m\u001b[0m\u001b[1;33m\u001b[0m\u001b[0m\n",
      "\u001b[1;32m~\\anaconda3\\lib\\site-packages\\scipy\\sparse\\_csr.py\u001b[0m in \u001b[0;36m<module>\u001b[1;34m\u001b[0m\n\u001b[0;32m      9\u001b[0m \u001b[1;32mfrom\u001b[0m \u001b[1;33m.\u001b[0m\u001b[0m_matrix\u001b[0m \u001b[1;32mimport\u001b[0m \u001b[0mspmatrix\u001b[0m\u001b[1;33m\u001b[0m\u001b[1;33m\u001b[0m\u001b[0m\n\u001b[0;32m     10\u001b[0m \u001b[1;32mfrom\u001b[0m \u001b[1;33m.\u001b[0m\u001b[0m_base\u001b[0m \u001b[1;32mimport\u001b[0m \u001b[0m_spbase\u001b[0m\u001b[1;33m,\u001b[0m \u001b[0msparray\u001b[0m\u001b[1;33m\u001b[0m\u001b[1;33m\u001b[0m\u001b[0m\n\u001b[1;32m---> 11\u001b[1;33m from ._sparsetools import (csr_tocsc, csr_tobsr, csr_count_blocks,\n\u001b[0m\u001b[0;32m     12\u001b[0m                            get_csr_submatrix)\n\u001b[0;32m     13\u001b[0m \u001b[1;32mfrom\u001b[0m \u001b[1;33m.\u001b[0m\u001b[0m_sputils\u001b[0m \u001b[1;32mimport\u001b[0m \u001b[0mupcast\u001b[0m\u001b[1;33m\u001b[0m\u001b[1;33m\u001b[0m\u001b[0m\n",
      "\u001b[1;31mImportError\u001b[0m: numpy._core.multiarray failed to import"
     ]
    }
   ],
   "source": [
    "import numpy as np\n",
    "from sklearn.svm import SVC\n",
    "import matplotlib.pyplot as plt\n",
    "from sklearn import svm, datasets\n",
    "from sklearn.model_selection import train_test_split\n",
    "from sklearn.metrics import classification_report, confusion_matrix, ConfusionMatrixDisplay\n",
    "from sklearn.multiclass import OneVsRestClassifier, OneVsOneClassifier"
   ]
  },
  {
   "cell_type": "code",
   "execution_count": 25,
   "metadata": {
    "id": "UYf7LtulP7Mt"
   },
   "outputs": [],
   "source": [
    "iris = datasets.load_iris()\n",
    "X = iris.data\n",
    "y = iris.target\n",
    "X_train, X_test, y_train, y_test = train_test_split(X, y, test_size=0.2, random_state=42)\n"
   ]
  },
  {
   "cell_type": "code",
   "execution_count": 26,
   "metadata": {
    "colab": {
     "base_uri": "https://localhost:8080/"
    },
    "id": "-NpaFM5eQHxx",
    "outputId": "913a0349-62f3-4db2-ed9a-1caf0e93c402"
   },
   "outputs": [
    {
     "data": {
      "text/plain": [
       "array([[4.6, 3.6, 1. , 0.2],\n",
       "       [5.7, 4.4, 1.5, 0.4],\n",
       "       [6.7, 3.1, 4.4, 1.4],\n",
       "       [4.8, 3.4, 1.6, 0.2],\n",
       "       [4.4, 3.2, 1.3, 0.2]])"
      ]
     },
     "execution_count": 26,
     "metadata": {},
     "output_type": "execute_result"
    }
   ],
   "source": [
    "X_train[:5]"
   ]
  },
  {
   "cell_type": "code",
   "execution_count": 27,
   "metadata": {
    "id": "sxn44l-wQkV0"
   },
   "outputs": [],
   "source": [
    "def trainSVM(X_train, X_test, y_train, y_test, decision_function_shape, kernel):\n",
    "\n",
    "  svm = SVC(kernel=kernel, decision_function_shape=decision_function_shape)\n",
    "  svm.fit(X_train, y_train)\n",
    "  y_pred = svm.predict(X_test)\n",
    "  cm = confusion_matrix(y_test, y_pred)\n",
    "  disp = ConfusionMatrixDisplay(confusion_matrix=cm, display_labels=iris.target_names)\n",
    "  disp.plot()\n",
    "  plt.title(f\"confusion matrix of {decision_function_shape} of SVM with {kernel} kernel\")\n",
    "  plt.show()\n",
    "  print(f\"Classification report for SVM with {kernel} kernel:\\n\", classification_report(y_test, y_pred))"
   ]
  },
  {
   "cell_type": "code",
   "execution_count": 28,
   "metadata": {
    "colab": {
     "base_uri": "https://localhost:8080/",
     "height": 663
    },
    "id": "7jmlKoPfQ27T",
    "outputId": "b872e2ac-989e-462d-bb3e-6929f281d30b"
   },
   "outputs": [
    {
     "data": {
      "image/png": "[encoded data removed]",
      "text/plain": [
       "<Figure size 640x480 with 2 Axes>"
      ]
     },
     "metadata": {},
     "output_type": "display_data"
    },
    {
     "name": "stdout",
     "output_type": "stream",
     "text": [
      "Classification report for SVM with linear kernel:\n",
      "               precision    recall  f1-score   support\n",
      "\n",
      "           0       1.00      1.00      1.00        10\n",
      "           1       1.00      1.00      1.00         9\n",
      "           2       1.00      1.00      1.00        11\n",
      "\n",
      "    accuracy                           1.00        30\n",
      "   macro avg       1.00      1.00      1.00        30\n",
      "weighted avg       1.00      1.00      1.00        30\n",
      "\n"
     ]
    }
   ],
   "source": [
    "trainSVM(X_train, X_test, y_train, y_test, 'ovo', 'linear')"
   ]
  },
  {
   "cell_type": "code",
   "execution_count": 29,
   "metadata": {
    "colab": {
     "base_uri": "https://localhost:8080/",
     "height": 663
    },
    "id": "bo_FaxaDdNG0",
    "outputId": "c1f77097-76e5-4a45-df41-9f749c1e0eb0"
   },
   "outputs": [
    {
     "data": {
      "image/png": "[encoded data removed]",
      "text/plain": [
       "<Figure size 640x480 with 2 Axes>"
      ]
     },
     "metadata": {},
     "output_type": "display_data"
    },
    {
     "name": "stdout",
     "output_type": "stream",
     "text": [
      "Classification report for SVM with poly kernel:\n",
      "               precision    recall  f1-score   support\n",
      "\n",
      "           0       1.00      1.00      1.00        10\n",
      "           1       1.00      1.00      1.00         9\n",
      "           2       1.00      1.00      1.00        11\n",
      "\n",
      "    accuracy                           1.00        30\n",
      "   macro avg       1.00      1.00      1.00        30\n",
      "weighted avg       1.00      1.00      1.00        30\n",
      "\n"
     ]
    }
   ],
   "source": [
    "trainSVM(X_train, X_test, y_train, y_test, 'ovo', 'poly')"
   ]
  },
  {
   "cell_type": "code",
   "execution_count": 30,
   "metadata": {
    "colab": {
     "base_uri": "https://localhost:8080/",
     "height": 663
    },
    "id": "LmD1S5joddAr",
    "outputId": "f4ae7a55-417d-4188-8c77-cf35d5f999e3"
   },
   "outputs": [
    {
     "data": {
      "image/png": "[encoded data removed]",
      "text/plain": [
       "<Figure size 640x480 with 2 Axes>"
      ]
     },
     "metadata": {},
     "output_type": "display_data"
    },
    {
     "name": "stdout",
     "output_type": "stream",
     "text": [
      "Classification report for SVM with rbf kernel:\n",
      "               precision    recall  f1-score   support\n",
      "\n",
      "           0       1.00      1.00      1.00        10\n",
      "           1       1.00      1.00      1.00         9\n",
      "           2       1.00      1.00      1.00        11\n",
      "\n",
      "    accuracy                           1.00        30\n",
      "   macro avg       1.00      1.00      1.00        30\n",
      "weighted avg       1.00      1.00      1.00        30\n",
      "\n"
     ]
    }
   ],
   "source": [
    "trainSVM(X_train, X_test, y_train, y_test, 'ovo', 'rbf')"
   ]
  },
  {
   "cell_type": "code",
   "execution_count": 31,
   "metadata": {
    "colab": {
     "base_uri": "https://localhost:8080/",
     "height": 663
    },
    "id": "LCbCLlf5dmsg",
    "outputId": "8d454bd9-9242-4561-83be-ab4cc4d8a80c"
   },
   "outputs": [
    {
     "data": {
      "image/png": "[encoded data removed]",
      "text/plain": [
       "<Figure size 640x480 with 2 Axes>"
      ]
     },
     "metadata": {},
     "output_type": "display_data"
    },
    {
     "name": "stdout",
     "output_type": "stream",
     "text": [
      "Classification report for SVM with linear kernel:\n",
      "               precision    recall  f1-score   support\n",
      "\n",
      "           0       1.00      1.00      1.00        10\n",
      "           1       1.00      1.00      1.00         9\n",
      "           2       1.00      1.00      1.00        11\n",
      "\n",
      "    accuracy                           1.00        30\n",
      "   macro avg       1.00      1.00      1.00        30\n",
      "weighted avg       1.00      1.00      1.00        30\n",
      "\n"
     ]
    }
   ],
   "source": [
    "trainSVM(X_train, X_test, y_train, y_test, 'ovr', 'linear')"
   ]
  },
  {
   "cell_type": "code",
   "execution_count": 32,
   "metadata": {
    "colab": {
     "base_uri": "https://localhost:8080/",
     "height": 663
    },
    "id": "3v1sMiVNdxN4",
    "outputId": "2d5cec38-a192-49b6-9d60-7735672e856f"
   },
   "outputs": [
    {
     "data": {
      "image/png": "[encoded data removed]",
      "text/plain": [
       "<Figure size 640x480 with 2 Axes>"
      ]
     },
     "metadata": {},
     "output_type": "display_data"
    },
    {
     "name": "stdout",
     "output_type": "stream",
     "text": [
      "Classification report for SVM with poly kernel:\n",
      "               precision    recall  f1-score   support\n",
      "\n",
      "           0       1.00      1.00      1.00        10\n",
      "           1       1.00      1.00      1.00         9\n",
      "           2       1.00      1.00      1.00        11\n",
      "\n",
      "    accuracy                           1.00        30\n",
      "   macro avg       1.00      1.00      1.00        30\n",
      "weighted avg       1.00      1.00      1.00        30\n",
      "\n"
     ]
    }
   ],
   "source": [
    "trainSVM(X_train, X_test, y_train, y_test, 'ovr', 'poly')"
   ]
  },
  {
   "cell_type": "code",
   "execution_count": 33,
   "metadata": {
    "colab": {
     "base_uri": "https://localhost:8080/",
     "height": 663
    },
    "id": "Vo33IV_mdz4I",
    "outputId": "f78cb07f-7737-459c-ba79-107c80d5ac16"
   },
   "outputs": [
    {
     "data": {
      "image/png": "[encoded data removed]",
      "text/plain": [
       "<Figure size 640x480 with 2 Axes>"
      ]
     },
     "metadata": {},
     "output_type": "display_data"
    },
    {
     "name": "stdout",
     "output_type": "stream",
     "text": [
      "Classification report for SVM with rbf kernel:\n",
      "               precision    recall  f1-score   support\n",
      "\n",
      "           0       1.00      1.00      1.00        10\n",
      "           1       1.00      1.00      1.00         9\n",
      "           2       1.00      1.00      1.00        11\n",
      "\n",
      "    accuracy                           1.00        30\n",
      "   macro avg       1.00      1.00      1.00        30\n",
      "weighted avg       1.00      1.00      1.00        30\n",
      "\n"
     ]
    }
   ],
   "source": [
    "trainSVM(X_train, X_test, y_train, y_test, 'ovr', 'rbf')"
   ]
  },
  {
   "cell_type": "markdown",
   "metadata": {
    "id": "hfpB2uWIgvpf"
   },
   "source": [
    "# 3.1.2\n",
    "With Iris dataset, in one vs one training, both linear and rbf achieve 1.0 for accuracy and F1 score. In one vs rest training, both polynomial and rbf achieve 1.0 for accuracy and F1 score. rbf kernel performs best in one vs one and one vs rest."
   ]
  },
  {
   "cell_type": "markdown",
   "metadata": {
    "id": "DLm06juGiltp"
   },
   "source": [
    "# 3.1.3"
   ]
  },
  {
   "cell_type": "code",
   "execution_count": 34,
   "metadata": {
    "colab": {
     "base_uri": "https://localhost:8080/",
     "height": 80
    },
    "id": "1dmnyngZilTh",
    "outputId": "d8f6fce9-f8d7-46a3-cc4d-aa444a7ac32a"
   },
   "outputs": [
    {
     "data": {
      "text/html": [
       "<style>#sk-container-id-1 {\n",
       "  /* Definition of color scheme common for light and dark mode */\n",
       "  --sklearn-color-text: black;\n",
       "  --sklearn-color-line: gray;\n",
       "  /* Definition of color scheme for unfitted estimators */\n",
       "  --sklearn-color-unfitted-level-0: #fff5e6;\n",
       "  --sklearn-color-unfitted-level-1: #f6e4d2;\n",
       "  --sklearn-color-unfitted-level-2: #ffe0b3;\n",
       "  --sklearn-color-unfitted-level-3: chocolate;\n",
       "  /* Definition of color scheme for fitted estimators */\n",
       "  --sklearn-color-fitted-level-0: #f0f8ff;\n",
       "  --sklearn-color-fitted-level-1: #d4ebff;\n",
       "  --sklearn-color-fitted-level-2: #b3dbfd;\n",
       "  --sklearn-color-fitted-level-3: cornflowerblue;\n",
       "\n",
       "  /* Specific color for light theme */\n",
       "  --sklearn-color-text-on-default-background: var(--sg-text-color, var(--theme-code-foreground, var(--jp-content-font-color1, black)));\n",
       "  --sklearn-color-background: var(--sg-background-color, var(--theme-background, var(--jp-layout-color0, white)));\n",
       "  --sklearn-color-border-box: var(--sg-text-color, var(--theme-code-foreground, var(--jp-content-font-color1, black)));\n",
       "  --sklearn-color-icon: #696969;\n",
       "\n",
       "  @media (prefers-color-scheme: dark) {\n",
       "    /* Redefinition of color scheme for dark theme */\n",
       "    --sklearn-color-text-on-default-background: var(--sg-text-color, var(--theme-code-foreground, var(--jp-content-font-color1, white)));\n",
       "    --sklearn-color-background: var(--sg-background-color, var(--theme-background, var(--jp-layout-color0, #111)));\n",
       "    --sklearn-color-border-box: var(--sg-text-color, var(--theme-code-foreground, var(--jp-content-font-color1, white)));\n",
       "    --sklearn-color-icon: #878787;\n",
       "  }\n",
       "}\n",
       "\n",
       "#sk-container-id-1 {\n",
       "  color: var(--sklearn-color-text);\n",
       "}\n",
       "\n",
       "#sk-container-id-1 pre {\n",
       "  padding: 0;\n",
       "}\n",
       "\n",
       "#sk-container-id-1 input.sk-hidden--visually {\n",
       "  border: 0;\n",
       "  clip: rect(1px 1px 1px 1px);\n",
       "  clip: rect(1px, 1px, 1px, 1px);\n",
       "  height: 1px;\n",
       "  margin: -1px;\n",
       "  overflow: hidden;\n",
       "  padding: 0;\n",
       "  position: absolute;\n",
       "  width: 1px;\n",
       "}\n",
       "\n",
       "#sk-container-id-1 div.sk-dashed-wrapped {\n",
       "  border: 1px dashed var(--sklearn-color-line);\n",
       "  margin: 0 0.4em 0.5em 0.4em;\n",
       "  box-sizing: border-box;\n",
       "  padding-bottom: 0.4em;\n",
       "  background-color: var(--sklearn-color-background);\n",
       "}\n",
       "\n",
       "#sk-container-id-1 div.sk-container {\n",
       "  /* jupyter's `normalize.less` sets `[hidden] { display: none; }`\n",
       "     but bootstrap.min.css set `[hidden] { display: none !important; }`\n",
       "     so we also need the `!important` here to be able to override the\n",
       "     default hidden behavior on the sphinx rendered scikit-learn.org.\n",
       "     See: https://github.com/scikit-learn/scikit-learn/issues/21755 */\n",
       "  display: inline-block !important;\n",
       "  position: relative;\n",
       "}\n",
       "\n",
       "#sk-container-id-1 div.sk-text-repr-fallback {\n",
       "  display: none;\n",
       "}\n",
       "\n",
       "div.sk-parallel-item,\n",
       "div.sk-serial,\n",
       "div.sk-item {\n",
       "  /* draw centered vertical line to link estimators */\n",
       "  background-image: linear-gradient(var(--sklearn-color-text-on-default-background), var(--sklearn-color-text-on-default-background));\n",
       "  background-size: 2px 100%;\n",
       "  background-repeat: no-repeat;\n",
       "  background-position: center center;\n",
       "}\n",
       "\n",
       "/* Parallel-specific style estimator block */\n",
       "\n",
       "#sk-container-id-1 div.sk-parallel-item::after {\n",
       "  content: \"\";\n",
       "  width: 100%;\n",
       "  border-bottom: 2px solid var(--sklearn-color-text-on-default-background);\n",
       "  flex-grow: 1;\n",
       "}\n",
       "\n",
       "#sk-container-id-1 div.sk-parallel {\n",
       "  display: flex;\n",
       "  align-items: stretch;\n",
       "  justify-content: center;\n",
       "  background-color: var(--sklearn-color-background);\n",
       "  position: relative;\n",
       "}\n",
       "\n",
       "#sk-container-id-1 div.sk-parallel-item {\n",
       "  display: flex;\n",
       "  flex-direction: column;\n",
       "}\n",
       "\n",
       "#sk-container-id-1 div.sk-parallel-item:first-child::after {\n",
       "  align-self: flex-end;\n",
       "  width: 50%;\n",
       "}\n",
       "\n",
       "#sk-container-id-1 div.sk-parallel-item:last-child::after {\n",
       "  align-self: flex-start;\n",
       "  width: 50%;\n",
       "}\n",
       "\n",
       "#sk-container-id-1 div.sk-parallel-item:only-child::after {\n",
       "  width: 0;\n",
       "}\n",
       "\n",
       "/* Serial-specific style estimator block */\n",
       "\n",
       "#sk-container-id-1 div.sk-serial {\n",
       "  display: flex;\n",
       "  flex-direction: column;\n",
       "  align-items: center;\n",
       "  background-color: var(--sklearn-color-background);\n",
       "  padding-right: 1em;\n",
       "  padding-left: 1em;\n",
       "}\n",
       "\n",
       "\n",
       "/* Toggleable style: style used for estimator/Pipeline/ColumnTransformer box that is\n",
       "clickable and can be expanded/collapsed.\n",
       "- Pipeline and ColumnTransformer use this feature and define the default style\n",
       "- Estimators will overwrite some part of the style using the `sk-estimator` class\n",
       "*/\n",
       "\n",
       "/* Pipeline and ColumnTransformer style (default) */\n",
       "\n",
       "#sk-container-id-1 div.sk-toggleable {\n",
       "  /* Default theme specific background. It is overwritten whether we have a\n",
       "  specific estimator or a Pipeline/ColumnTransformer */\n",
       "  background-color: var(--sklearn-color-background);\n",
       "}\n",
       "\n",
       "/* Toggleable label */\n",
       "#sk-container-id-1 label.sk-toggleable__label {\n",
       "  cursor: pointer;\n",
       "  display: block;\n",
       "  width: 100%;\n",
       "  margin-bottom: 0;\n",
       "  padding: 0.5em;\n",
       "  box-sizing: border-box;\n",
       "  text-align: center;\n",
       "}\n",
       "\n",
       "#sk-container-id-1 label.sk-toggleable__label-arrow:before {\n",
       "  /* Arrow on the left of the label */\n",
       "  content: \"▸\";\n",
       "  float: left;\n",
       "  margin-right: 0.25em;\n",
       "  color: var(--sklearn-color-icon);\n",
       "}\n",
       "\n",
       "#sk-container-id-1 label.sk-toggleable__label-arrow:hover:before {\n",
       "  color: var(--sklearn-color-text);\n",
       "}\n",
       "\n",
       "/* Toggleable content - dropdown */\n",
       "\n",
       "#sk-container-id-1 div.sk-toggleable__content {\n",
       "  max-height: 0;\n",
       "  max-width: 0;\n",
       "  overflow: hidden;\n",
       "  text-align: left;\n",
       "  /* unfitted */\n",
       "  background-color: var(--sklearn-color-unfitted-level-0);\n",
       "}\n",
       "\n",
       "#sk-container-id-1 div.sk-toggleable__content.fitted {\n",
       "  /* fitted */\n",
       "  background-color: var(--sklearn-color-fitted-level-0);\n",
       "}\n",
       "\n",
       "#sk-container-id-1 div.sk-toggleable__content pre {\n",
       "  margin: 0.2em;\n",
       "  border-radius: 0.25em;\n",
       "  color: var(--sklearn-color-text);\n",
       "  /* unfitted */\n",
       "  background-color: var(--sklearn-color-unfitted-level-0);\n",
       "}\n",
       "\n",
       "#sk-container-id-1 div.sk-toggleable__content.fitted pre {\n",
       "  /* unfitted */\n",
       "  background-color: var(--sklearn-color-fitted-level-0);\n",
       "}\n",
       "\n",
       "#sk-container-id-1 input.sk-toggleable__control:checked~div.sk-toggleable__content {\n",
       "  /* Expand drop-down */\n",
       "  max-height: 200px;\n",
       "  max-width: 100%;\n",
       "  overflow: auto;\n",
       "}\n",
       "\n",
       "#sk-container-id-1 input.sk-toggleable__control:checked~label.sk-toggleable__label-arrow:before {\n",
       "  content: \"▾\";\n",
       "}\n",
       "\n",
       "/* Pipeline/ColumnTransformer-specific style */\n",
       "\n",
       "#sk-container-id-1 div.sk-label input.sk-toggleable__control:checked~label.sk-toggleable__label {\n",
       "  color: var(--sklearn-color-text);\n",
       "  background-color: var(--sklearn-color-unfitted-level-2);\n",
       "}\n",
       "\n",
       "#sk-container-id-1 div.sk-label.fitted input.sk-toggleable__control:checked~label.sk-toggleable__label {\n",
       "  background-color: var(--sklearn-color-fitted-level-2);\n",
       "}\n",
       "\n",
       "/* Estimator-specific style */\n",
       "\n",
       "/* Colorize estimator box */\n",
       "#sk-container-id-1 div.sk-estimator input.sk-toggleable__control:checked~label.sk-toggleable__label {\n",
       "  /* unfitted */\n",
       "  background-color: var(--sklearn-color-unfitted-level-2);\n",
       "}\n",
       "\n",
       "#sk-container-id-1 div.sk-estimator.fitted input.sk-toggleable__control:checked~label.sk-toggleable__label {\n",
       "  /* fitted */\n",
       "  background-color: var(--sklearn-color-fitted-level-2);\n",
       "}\n",
       "\n",
       "#sk-container-id-1 div.sk-label label.sk-toggleable__label,\n",
       "#sk-container-id-1 div.sk-label label {\n",
       "  /* The background is the default theme color */\n",
       "  color: var(--sklearn-color-text-on-default-background);\n",
       "}\n",
       "\n",
       "/* On hover, darken the color of the background */\n",
       "#sk-container-id-1 div.sk-label:hover label.sk-toggleable__label {\n",
       "  color: var(--sklearn-color-text);\n",
       "  background-color: var(--sklearn-color-unfitted-level-2);\n",
       "}\n",
       "\n",
       "/* Label box, darken color on hover, fitted */\n",
       "#sk-container-id-1 div.sk-label.fitted:hover label.sk-toggleable__label.fitted {\n",
       "  color: var(--sklearn-color-text);\n",
       "  background-color: var(--sklearn-color-fitted-level-2);\n",
       "}\n",
       "\n",
       "/* Estimator label */\n",
       "\n",
       "#sk-container-id-1 div.sk-label label {\n",
       "  font-family: monospace;\n",
       "  font-weight: bold;\n",
       "  display: inline-block;\n",
       "  line-height: 1.2em;\n",
       "}\n",
       "\n",
       "#sk-container-id-1 div.sk-label-container {\n",
       "  text-align: center;\n",
       "}\n",
       "\n",
       "/* Estimator-specific */\n",
       "#sk-container-id-1 div.sk-estimator {\n",
       "  font-family: monospace;\n",
       "  border: 1px dotted var(--sklearn-color-border-box);\n",
       "  border-radius: 0.25em;\n",
       "  box-sizing: border-box;\n",
       "  margin-bottom: 0.5em;\n",
       "  /* unfitted */\n",
       "  background-color: var(--sklearn-color-unfitted-level-0);\n",
       "}\n",
       "\n",
       "#sk-container-id-1 div.sk-estimator.fitted {\n",
       "  /* fitted */\n",
       "  background-color: var(--sklearn-color-fitted-level-0);\n",
       "}\n",
       "\n",
       "/* on hover */\n",
       "#sk-container-id-1 div.sk-estimator:hover {\n",
       "  /* unfitted */\n",
       "  background-color: var(--sklearn-color-unfitted-level-2);\n",
       "}\n",
       "\n",
       "#sk-container-id-1 div.sk-estimator.fitted:hover {\n",
       "  /* fitted */\n",
       "  background-color: var(--sklearn-color-fitted-level-2);\n",
       "}\n",
       "\n",
       "/* Specification for estimator info (e.g. \"i\" and \"?\") */\n",
       "\n",
       "/* Common style for \"i\" and \"?\" */\n",
       "\n",
       ".sk-estimator-doc-link,\n",
       "a:link.sk-estimator-doc-link,\n",
       "a:visited.sk-estimator-doc-link {\n",
       "  float: right;\n",
       "  font-size: smaller;\n",
       "  line-height: 1em;\n",
       "  font-family: monospace;\n",
       "  background-color: var(--sklearn-color-background);\n",
       "  border-radius: 1em;\n",
       "  height: 1em;\n",
       "  width: 1em;\n",
       "  text-decoration: none !important;\n",
       "  margin-left: 1ex;\n",
       "  /* unfitted */\n",
       "  border: var(--sklearn-color-unfitted-level-1) 1pt solid;\n",
       "  color: var(--sklearn-color-unfitted-level-1);\n",
       "}\n",
       "\n",
       ".sk-estimator-doc-link.fitted,\n",
       "a:link.sk-estimator-doc-link.fitted,\n",
       "a:visited.sk-estimator-doc-link.fitted {\n",
       "  /* fitted */\n",
       "  border: var(--sklearn-color-fitted-level-1) 1pt solid;\n",
       "  color: var(--sklearn-color-fitted-level-1);\n",
       "}\n",
       "\n",
       "/* On hover */\n",
       "div.sk-estimator:hover .sk-estimator-doc-link:hover,\n",
       ".sk-estimator-doc-link:hover,\n",
       "div.sk-label-container:hover .sk-estimator-doc-link:hover,\n",
       ".sk-estimator-doc-link:hover {\n",
       "  /* unfitted */\n",
       "  background-color: var(--sklearn-color-unfitted-level-3);\n",
       "  color: var(--sklearn-color-background);\n",
       "  text-decoration: none;\n",
       "}\n",
       "\n",
       "div.sk-estimator.fitted:hover .sk-estimator-doc-link.fitted:hover,\n",
       ".sk-estimator-doc-link.fitted:hover,\n",
       "div.sk-label-container:hover .sk-estimator-doc-link.fitted:hover,\n",
       ".sk-estimator-doc-link.fitted:hover {\n",
       "  /* fitted */\n",
       "  background-color: var(--sklearn-color-fitted-level-3);\n",
       "  color: var(--sklearn-color-background);\n",
       "  text-decoration: none;\n",
       "}\n",
       "\n",
       "/* Span, style for the box shown on hovering the info icon */\n",
       ".sk-estimator-doc-link span {\n",
       "  display: none;\n",
       "  z-index: 9999;\n",
       "  position: relative;\n",
       "  font-weight: normal;\n",
       "  right: .2ex;\n",
       "  padding: .5ex;\n",
       "  margin: .5ex;\n",
       "  width: min-content;\n",
       "  min-width: 20ex;\n",
       "  max-width: 50ex;\n",
       "  color: var(--sklearn-color-text);\n",
       "  box-shadow: 2pt 2pt 4pt #999;\n",
       "  /* unfitted */\n",
       "  background: var(--sklearn-color-unfitted-level-0);\n",
       "  border: .5pt solid var(--sklearn-color-unfitted-level-3);\n",
       "}\n",
       "\n",
       ".sk-estimator-doc-link.fitted span {\n",
       "  /* fitted */\n",
       "  background: var(--sklearn-color-fitted-level-0);\n",
       "  border: var(--sklearn-color-fitted-level-3);\n",
       "}\n",
       "\n",
       ".sk-estimator-doc-link:hover span {\n",
       "  display: block;\n",
       "}\n",
       "\n",
       "/* \"?\"-specific style due to the `<a>` HTML tag */\n",
       "\n",
       "#sk-container-id-1 a.estimator_doc_link {\n",
       "  float: right;\n",
       "  font-size: 1rem;\n",
       "  line-height: 1em;\n",
       "  font-family: monospace;\n",
       "  background-color: var(--sklearn-color-background);\n",
       "  border-radius: 1rem;\n",
       "  height: 1rem;\n",
       "  width: 1rem;\n",
       "  text-decoration: none;\n",
       "  /* unfitted */\n",
       "  color: var(--sklearn-color-unfitted-level-1);\n",
       "  border: var(--sklearn-color-unfitted-level-1) 1pt solid;\n",
       "}\n",
       "\n",
       "#sk-container-id-1 a.estimator_doc_link.fitted {\n",
       "  /* fitted */\n",
       "  border: var(--sklearn-color-fitted-level-1) 1pt solid;\n",
       "  color: var(--sklearn-color-fitted-level-1);\n",
       "}\n",
       "\n",
       "/* On hover */\n",
       "#sk-container-id-1 a.estimator_doc_link:hover {\n",
       "  /* unfitted */\n",
       "  background-color: var(--sklearn-color-unfitted-level-3);\n",
       "  color: var(--sklearn-color-background);\n",
       "  text-decoration: none;\n",
       "}\n",
       "\n",
       "#sk-container-id-1 a.estimator_doc_link.fitted:hover {\n",
       "  /* fitted */\n",
       "  background-color: var(--sklearn-color-fitted-level-3);\n",
       "}\n",
       "</style><div id=\"sk-container-id-1\" class=\"sk-top-container\"><div class=\"sk-text-repr-fallback\"><pre>SVC()</pre><b>In a Jupyter environment, please rerun this cell to show the HTML representation or trust the notebook. <br />On GitHub, the HTML representation is unable to render, please try loading this page with nbviewer.org.</b></div><div class=\"sk-container\" hidden><div class=\"sk-item\"><div class=\"sk-estimator fitted sk-toggleable\"><input class=\"sk-toggleable__control sk-hidden--visually\" id=\"sk-estimator-id-1\" type=\"checkbox\" checked><label for=\"sk-estimator-id-1\" class=\"sk-toggleable__label fitted sk-toggleable__label-arrow fitted\">&nbsp;&nbsp;SVC<a class=\"sk-estimator-doc-link fitted\" rel=\"noreferrer\" target=\"_blank\" href=\"https://scikit-learn.org/1.5/modules/generated/sklearn.svm.SVC.html\">?<span>Documentation for SVC</span></a><span class=\"sk-estimator-doc-link fitted\">i<span>Fitted</span></span></label><div class=\"sk-toggleable__content fitted\"><pre>SVC()</pre></div> </div></div></div></div>"
      ],
      "text/plain": [
       "SVC()"
      ]
     },
     "execution_count": 34,
     "metadata": {},
     "output_type": "execute_result"
    }
   ],
   "source": [
    "svm = SVC(decision_function_shape='ovr', kernel='rbf')\n",
    "svm.fit(X_train, y_train)"
   ]
  },
  {
   "cell_type": "code",
   "execution_count": 35,
   "metadata": {
    "colab": {
     "base_uri": "https://localhost:8080/"
    },
    "id": "SRvsG8EomKox",
    "outputId": "5ab76e12-07ba-4556-b9cd-e3e17af9e580"
   },
   "outputs": [
    {
     "data": {
      "text/plain": [
       "array([[5.1, 3.8, 1.9, 0.4],\n",
       "       [4.8, 3.4, 1.9, 0.2],\n",
       "       [5. , 3. , 1.6, 0.2],\n",
       "       [5.1, 3.3, 1.7, 0.5],\n",
       "       [4.5, 2.3, 1.3, 0.3],\n",
       "       [6.7, 3.1, 4.4, 1.4],\n",
       "       [6.4, 3.2, 4.5, 1.5],\n",
       "       [6. , 3.4, 4.5, 1.6],\n",
       "       [6.7, 3.1, 4.7, 1.5],\n",
       "       [6.6, 3. , 4.4, 1.4],\n",
       "       [5.6, 3. , 4.5, 1.5],\n",
       "       [5. , 2. , 3.5, 1. ],\n",
       "       [5.6, 2.7, 4.2, 1.3],\n",
       "       [5.4, 3. , 4.5, 1.5],\n",
       "       [5. , 2.3, 3.3, 1. ],\n",
       "       [6.7, 3. , 5. , 1.7],\n",
       "       [5.9, 3.2, 4.8, 1.8],\n",
       "       [5.1, 2.5, 3. , 1.1],\n",
       "       [6. , 2.7, 5.1, 1.6],\n",
       "       [6.3, 2.5, 4.9, 1.5],\n",
       "       [6.1, 2.9, 4.7, 1.4],\n",
       "       [6.5, 2.8, 4.6, 1.5],\n",
       "       [7. , 3.2, 4.7, 1.4],\n",
       "       [5.9, 3. , 4.2, 1.5],\n",
       "       [5.7, 2.6, 3.5, 1. ],\n",
       "       [6.1, 3. , 4.6, 1.4],\n",
       "       [6.6, 2.9, 4.6, 1.3],\n",
       "       [5.5, 2.6, 4.4, 1.2],\n",
       "       [4.9, 2.4, 3.3, 1. ],\n",
       "       [6.9, 3.1, 4.9, 1.5],\n",
       "       [6.3, 2.3, 4.4, 1.3],\n",
       "       [6.3, 2.5, 5. , 1.9],\n",
       "       [5.8, 2.7, 5.1, 1.9],\n",
       "       [6.3, 2.8, 5.1, 1.5],\n",
       "       [6.4, 3.1, 5.5, 1.8],\n",
       "       [6.3, 2.7, 4.9, 1.8],\n",
       "       [7.7, 3.8, 6.7, 2.2],\n",
       "       [5.7, 2.5, 5. , 2. ],\n",
       "       [6. , 3. , 4.8, 1.8],\n",
       "       [5.8, 2.7, 5.1, 1.9],\n",
       "       [6.4, 2.7, 5.3, 1.9],\n",
       "       [5.8, 2.8, 5.1, 2.4],\n",
       "       [6.1, 2.6, 5.6, 1.4],\n",
       "       [6. , 2.2, 5. , 1.5],\n",
       "       [6.2, 2.8, 4.8, 1.8],\n",
       "       [6.4, 3.2, 5.3, 2.3],\n",
       "       [6.9, 3.1, 5.4, 2.1],\n",
       "       [6.5, 3. , 5.2, 2. ],\n",
       "       [7.2, 3. , 5.8, 1.6],\n",
       "       [6.5, 3. , 5.5, 1.8],\n",
       "       [5.6, 2.8, 4.9, 2. ],\n",
       "       [5.9, 3. , 5.1, 1.8],\n",
       "       [4.9, 2.5, 4.5, 1.7]])"
      ]
     },
     "execution_count": 35,
     "metadata": {},
     "output_type": "execute_result"
    }
   ],
   "source": [
    "support_vectors = svm.support_vectors_\n",
    "support_vectors"
   ]
  },
  {
   "cell_type": "code",
   "execution_count": 36,
   "metadata": {
    "colab": {
     "base_uri": "https://localhost:8080/"
    },
    "id": "Lzvm8Lp7mQTZ",
    "outputId": "07d2087d-695f-4f99-b55e-6f19eef3f1f5"
   },
   "outputs": [
    {
     "data": {
      "text/plain": [
       "array([ 28,  31,  32,  33,  91,   2,   6,  11,  12,  18,  22,  29,  34,\n",
       "        45,  49,  54,  59,  60,  62,  73,  79,  80,  82,  86,  88,  90,\n",
       "        92,  93,  99, 105, 110,   5,  10,  16,  17,  30,  37,  40,  42,\n",
       "        43,  50,  56,  63,  68,  81,  83,  85,  87, 101, 109, 112, 113,\n",
       "       116], dtype=int32)"
      ]
     },
     "execution_count": 36,
     "metadata": {},
     "output_type": "execute_result"
    }
   ],
   "source": [
    "support_indices = svm.support_\n",
    "support_indices"
   ]
  },
  {
   "cell_type": "code",
   "execution_count": 37,
   "metadata": {
    "colab": {
     "base_uri": "https://localhost:8080/"
    },
    "id": "bLAWmbCWgnfX",
    "outputId": "590db702-65fd-49e2-b7d3-b2e14867d66b"
   },
   "outputs": [
    {
     "name": "stdout",
     "output_type": "stream",
     "text": [
      "Support vectors for class 0:\n",
      "[array([5.1, 3.8, 1.9, 0.4]), array([4.8, 3.4, 1.9, 0.2]), array([5. , 3. , 1.6, 0.2]), array([5.1, 3.3, 1.7, 0.5]), array([4.5, 2.3, 1.3, 0.3])]\n",
      "\n",
      "Support vectors for class 1:\n",
      "[array([6.7, 3.1, 4.4, 1.4]), array([6.4, 3.2, 4.5, 1.5]), array([6. , 3.4, 4.5, 1.6]), array([6.7, 3.1, 4.7, 1.5]), array([6.6, 3. , 4.4, 1.4]), array([5.6, 3. , 4.5, 1.5]), array([5. , 2. , 3.5, 1. ]), array([5.6, 2.7, 4.2, 1.3]), array([5.4, 3. , 4.5, 1.5]), array([5. , 2.3, 3.3, 1. ]), array([6.7, 3. , 5. , 1.7]), array([5.9, 3.2, 4.8, 1.8]), array([5.1, 2.5, 3. , 1.1]), array([6. , 2.7, 5.1, 1.6]), array([6.3, 2.5, 4.9, 1.5]), array([6.1, 2.9, 4.7, 1.4]), array([6.5, 2.8, 4.6, 1.5]), array([7. , 3.2, 4.7, 1.4]), array([5.9, 3. , 4.2, 1.5]), array([5.7, 2.6, 3.5, 1. ]), array([6.1, 3. , 4.6, 1.4]), array([6.6, 2.9, 4.6, 1.3]), array([5.5, 2.6, 4.4, 1.2]), array([4.9, 2.4, 3.3, 1. ]), array([6.9, 3.1, 4.9, 1.5]), array([6.3, 2.3, 4.4, 1.3])]\n",
      "\n",
      "Support vectors for class 2:\n",
      "[array([6.3, 2.5, 5. , 1.9]), array([5.8, 2.7, 5.1, 1.9]), array([6.3, 2.8, 5.1, 1.5]), array([6.4, 3.1, 5.5, 1.8]), array([6.3, 2.7, 4.9, 1.8]), array([7.7, 3.8, 6.7, 2.2]), array([5.7, 2.5, 5. , 2. ]), array([6. , 3. , 4.8, 1.8]), array([5.8, 2.7, 5.1, 1.9]), array([6.4, 2.7, 5.3, 1.9]), array([5.8, 2.8, 5.1, 2.4]), array([6.1, 2.6, 5.6, 1.4]), array([6. , 2.2, 5. , 1.5]), array([6.2, 2.8, 4.8, 1.8]), array([6.4, 3.2, 5.3, 2.3]), array([6.9, 3.1, 5.4, 2.1]), array([6.5, 3. , 5.2, 2. ]), array([7.2, 3. , 5.8, 1.6]), array([6.5, 3. , 5.5, 1.8]), array([5.6, 2.8, 4.9, 2. ]), array([5.9, 3. , 5.1, 1.8]), array([4.9, 2.5, 4.5, 1.7])]\n",
      "\n"
     ]
    }
   ],
   "source": [
    "support_vector_class = {irisclass: [] for irisclass in range(len(np.unique(y)))}\n",
    "i = 0\n",
    "for indice in support_indices:\n",
    "  support_vector_class[y_train[indice]].append(support_vectors[i])\n",
    "  i +=1\n",
    "for irisclass, vectors in support_vector_class.items():\n",
    "    print(f\"Support vectors for class {irisclass}:\\n{vectors}\\n\")"
   ]
  },
  {
   "cell_type": "markdown",
   "metadata": {
    "id": "7vVMp9lLl48S"
   },
   "source": [
    "# 3.1.4\n",
    "Some code refer to https://towardsdatascience.com/support-vector-machines-svm-clearly-explained-apython-tutorial-for-classification-problems-29c539f3ad8\n",
    "\n",
    "The support vectors extracted in the previous task is used to plot the boundaries"
   ]
  },
  {
   "cell_type": "markdown",
   "metadata": {
    "id": "oOSTwbBJnTBF"
   },
   "source": [
    "## Plot the decision boundary between feature 2 vs 3"
   ]
  },
  {
   "cell_type": "code",
   "execution_count": 38,
   "metadata": {
    "id": "eqjziZMsPuWY"
   },
   "outputs": [],
   "source": [
    "support_vector_0 = support_vector_class[0]\n",
    "support_vector_1 = support_vector_class[1]\n",
    "support_vector_2 = support_vector_class[2]"
   ]
  },
  {
   "cell_type": "code",
   "execution_count": 58,
   "metadata": {
    "colab": {
     "base_uri": "https://localhost:8080/",
     "height": 311
    },
    "id": "QhMU4ogjxy64",
    "outputId": "ba64c863-ba74-454a-abce-4ffb67024788"
   },
   "outputs": [
    {
     "data": {
      "image/png": "[encoded data removed]",
      "text/plain": [
       "<Figure size 400x300 with 1 Axes>"
      ]
     },
     "metadata": {},
     "output_type": "display_data"
    }
   ],
   "source": [
    "support_vector_0_x = [i[1] for i in support_vector_0]\n",
    "support_vector_0_y = [i[2] for i in support_vector_0]\n",
    "support_vector_1_x = [i[1] for i in support_vector_1]\n",
    "support_vector_1_y = [i[2] for i in support_vector_1]\n",
    "support_vector_2_x = [i[1] for i in support_vector_2]\n",
    "support_vector_2_y = [i[2] for i in support_vector_2]\n",
    "\n",
    "plt.figure(1, figsize=(4, 3))\n",
    "plt.clf()\n",
    "\n",
    "plt.scatter(support_vector_0_x, support_vector_0_y, s=80,\n",
    " facecolors=\"r\", zorder=10, edgecolors=\"k\")\n",
    "plt.scatter(support_vector_1_x, support_vector_1_y, s=80,\n",
    " facecolors=\"b\", zorder=10, edgecolors=\"k\")\n",
    "plt.scatter(support_vector_2_x, support_vector_2_y, s=80,\n",
    " facecolors=\"g\", zorder=10, edgecolors=\"k\")\n",
    "\n",
    "w0, b0 = np.polyfit(support_vector_0_x, support_vector_0_y, 1)\n",
    "w1, b1 = np.polyfit(support_vector_1_x, support_vector_1_y, 1)\n",
    "w2, b2 = np.polyfit(support_vector_2_x, support_vector_2_y, 1)\n",
    "\n",
    "xx = np.linspace(2, 5)\n",
    "plt.plot(xx, w0 *xx + b0, color='red')\n",
    "plt.plot(xx, w1 * xx + b1, color='blue')\n",
    "plt.plot(xx, w2 * xx + b2, color='green')\n",
    "\n",
    "plt.plot(xx, (w0+w1) *xx/2 + (b0+b1)/2, color='black')\n",
    "plt.plot(xx, (w2+w1) *xx/2 + (b2+b1)/2, color='black')\n",
    "\n",
    "plt.xlabel(\"Feature 2\")\n",
    "plt.ylabel(\"Feature 3\")\n",
    "plt.show()"
   ]
  },
  {
   "cell_type": "markdown",
   "metadata": {
    "id": "iueISW4URbIv"
   },
   "source": [
    "## To plot all vectors along with the support vectors and the boundary"
   ]
  },
  {
   "cell_type": "code",
   "execution_count": 77,
   "metadata": {
    "colab": {
     "base_uri": "https://localhost:8080/",
     "height": 311
    },
    "id": "mPQnYAh6LtEj",
    "outputId": "efd67cda-bd55-4a12-fe70-f4524aa36063"
   },
   "outputs": [
    {
     "data": {
      "image/png": "[encoded data removed]",
      "text/plain": [
       "<Figure size 400x300 with 1 Axes>"
      ]
     },
     "metadata": {},
     "output_type": "display_data"
    }
   ],
   "source": [
    "support_vector_0_x = [i[1] for i in support_vector_0]\n",
    "support_vector_0_y = [i[2] for i in support_vector_0]\n",
    "support_vector_1_x = [i[1] for i in support_vector_1]\n",
    "support_vector_1_y = [i[2] for i in support_vector_1]\n",
    "support_vector_2_x = [i[1] for i in support_vector_2]\n",
    "support_vector_2_y = [i[2] for i in support_vector_2]\n",
    "\n",
    "plt.figure(1, figsize=(4, 3))\n",
    "plt.clf()\n",
    "\n",
    "plt.scatter(support_vector_0_x, support_vector_0_y, s=50,\n",
    " facecolors=\"none\", zorder=10, edgecolors=\"k\")\n",
    "plt.scatter(support_vector_1_x, support_vector_1_y, s=50,\n",
    " facecolors=\"none\", zorder=10, edgecolors=\"k\")\n",
    "plt.scatter(support_vector_2_x, support_vector_2_y, s=50,\n",
    " facecolors=\"none\", zorder=10, edgecolors=\"k\")\n",
    "\n",
    "w0, b0 = np.polyfit(support_vector_0_x, support_vector_0_y, 1)\n",
    "w1, b1 = np.polyfit(support_vector_1_x, support_vector_1_y, 1)\n",
    "w2, b2 = np.polyfit(support_vector_2_x, support_vector_2_y, 1)\n",
    "\n",
    "xx = np.linspace(2, 5)\n",
    "plt.plot(xx, w0 *xx + b0, color='red')\n",
    "plt.plot(xx, w1 * xx + b1, color='blue')\n",
    "plt.plot(xx, w2 * xx + b2, color='green')\n",
    "\n",
    "plt.plot(xx, (w0+w1) *xx/2 + (b0+b1)/2, color='black')\n",
    "plt.plot(xx, (w2+w1) *xx/2 + (b2+b1)/2, color='black')\n",
    "\n",
    "\n",
    "colors = np.array(['red', 'blue', 'green'])\n",
    "\n",
    "x0 = X_train[:, 1]\n",
    "x1 = X_train[:, 2]\n",
    "plt.scatter(x0, x1, c=colors[y], s=20, edgecolors=\"k\")\n",
    "\n",
    "plt.xlabel(\"Feature 2\")\n",
    "plt.ylabel(\"Feature 3\")\n",
    "plt.show()\n",
    "title = ('feature 2 vs 3 ')"
   ]
  },
  {
   "cell_type": "markdown",
   "metadata": {
    "id": "mzfbVl4rxy65"
   },
   "source": [
    "## Plot the decision boundary between feature 3 vs 4"
   ]
  },
  {
   "cell_type": "code",
   "execution_count": 78,
   "metadata": {
    "colab": {
     "base_uri": "https://localhost:8080/",
     "height": 311
    },
    "id": "iLPaXDokxy65",
    "outputId": "ee203ff6-d1c5-4f47-8e28-5aac15516174"
   },
   "outputs": [
    {
     "data": {
      "image/png": "[encoded data removed]",
      "text/plain": [
       "<Figure size 400x300 with 1 Axes>"
      ]
     },
     "metadata": {},
     "output_type": "display_data"
    }
   ],
   "source": [
    "support_vector_0_x = [i[2] for i in support_vector_0]\n",
    "support_vector_0_y = [i[3] for i in support_vector_0]\n",
    "support_vector_1_x = [i[2] for i in support_vector_1]\n",
    "support_vector_1_y = [i[3] for i in support_vector_1]\n",
    "support_vector_2_x = [i[2] for i in support_vector_2]\n",
    "support_vector_2_y = [i[3] for i in support_vector_2]\n",
    "\n",
    "plt.figure(1, figsize=(4, 3))\n",
    "plt.clf()\n",
    "\n",
    "plt.scatter(support_vector_0_x, support_vector_0_y, s=50,\n",
    " facecolors=\"none\", zorder=10, edgecolors=\"k\")\n",
    "plt.scatter(support_vector_1_x, support_vector_1_y, s=50,\n",
    " facecolors=\"none\", zorder=10, edgecolors=\"k\")\n",
    "plt.scatter(support_vector_2_x, support_vector_2_y, s=50,\n",
    " facecolors=\"none\", zorder=10, edgecolors=\"k\")\n",
    "\n",
    "w0, b0 = np.polyfit(support_vector_0_x, support_vector_0_y, 1)\n",
    "w1, b1 = np.polyfit(support_vector_1_x, support_vector_1_y, 1)\n",
    "w2, b2 = np.polyfit(support_vector_2_x, support_vector_2_y, 1)\n",
    "\n",
    "xx = np.linspace(1, 6)\n",
    "plt.plot(xx, w0 *xx + b0, color='red')\n",
    "plt.plot(xx, w1 * xx + b1, color='blue')\n",
    "plt.plot(xx, w2 * xx + b2, color='green')\n",
    "\n",
    "plt.plot(xx, (w0+w1) *xx/2 + (b0+b1)/2, color='black')\n",
    "plt.plot(xx, (w2+w1) *xx/2 + (b2+b1)/2, color='black')\n",
    "\n",
    "\n",
    "colors = np.array(['red', 'blue', 'green'])\n",
    "\n",
    "x0 = X_train[:, 2]\n",
    "x1 = X_train[:, 3]\n",
    "plt.scatter(x0, x1, c=colors[y], s=20, edgecolors=\"k\")\n",
    "title = ('feature 3 vs 4 ')\n",
    "\n",
    "plt.xlabel(\"Feature 3\")\n",
    "plt.ylabel(\"Feature 4\")\n",
    "plt.show()"
   ]
  },
  {
   "cell_type": "markdown",
   "metadata": {
    "id": "o4gLZ29pGm-0"
   },
   "source": [
    "## Note:\n",
    "hmm, using np.polyfit() is getting the line fitting the points that minimize the y error. In the plot above, the three lines are obviously not we want for plotting the decision boundaries, as they are not seperating the classes well. So I have been thinking using orthogonal regression that taking both x, y error into account to fit the line, but I think that will be quite heavy for this task, so I tried a simpler way below to see if it works. In the code block below, the fitting lines are perpendicular to the line above, then intercetion b is calculated according."
   ]
  },
  {
   "cell_type": "code",
   "execution_count": 80,
   "metadata": {
    "colab": {
     "base_uri": "https://localhost:8080/",
     "height": 316
    },
    "id": "tOk5ME6eC1S9",
    "outputId": "3d7c38a8-831b-48d1-f3e2-9cdbade92a9d"
   },
   "outputs": [
    {
     "data": {
      "image/png": "[encoded data removed]",
      "text/plain": [
       "<Figure size 400x300 with 1 Axes>"
      ]
     },
     "metadata": {},
     "output_type": "display_data"
    }
   ],
   "source": [
    "support_vector_0_x = [i[2] for i in support_vector_0]\n",
    "support_vector_0_y = [i[3] for i in support_vector_0]\n",
    "support_vector_1_x = [i[2] for i in support_vector_1]\n",
    "support_vector_1_y = [i[3] for i in support_vector_1]\n",
    "support_vector_2_x = [i[2] for i in support_vector_2]\n",
    "support_vector_2_y = [i[3] for i in support_vector_2]\n",
    "\n",
    "plt.figure(1, figsize=(4, 3))\n",
    "plt.clf()\n",
    "\n",
    "plt.scatter(support_vector_0_x, support_vector_0_y, s=50,\n",
    " facecolors=\"none\", zorder=10, edgecolors=\"k\")\n",
    "plt.scatter(support_vector_1_x, support_vector_1_y, s=50,\n",
    " facecolors=\"none\", zorder=10, edgecolors=\"k\")\n",
    "plt.scatter(support_vector_2_x, support_vector_2_y, s=50,\n",
    " facecolors=\"none\", zorder=10, edgecolors=\"k\")\n",
    "\n",
    "w0, b0 = np.polyfit(support_vector_0_x, support_vector_0_y, 1)\n",
    "w1, b1 = np.polyfit(support_vector_1_x, support_vector_1_y, 1)\n",
    "w2, b2 = np.polyfit(support_vector_2_x, support_vector_2_y, 1)\n",
    "\n",
    "# to seperate the class better, the new fitting line slope is -1/k (perpendicular)\n",
    "w0 = -1/w0\n",
    "w1 = -1/w1\n",
    "w2 = -1/w2\n",
    "# intersection is calculated based on the new slope\n",
    "b0 = np.mean(support_vector_0_y) - w0 * np.mean(support_vector_0_x)\n",
    "b1 = np.mean(support_vector_1_y) - w1 * np.mean(support_vector_1_x)\n",
    "b2 = np.mean(support_vector_2_y) - w2 * np.mean(support_vector_2_x)\n",
    "\n",
    "xx = np.linspace(1, 6)\n",
    "plt.plot(xx, w0 *xx + b0, color='red')\n",
    "plt.plot(xx, w1 * xx + b1, color='blue')\n",
    "plt.plot(xx, w2 * xx + b2, color='green')\n",
    "# plot boundary lines in black color\n",
    "plt.plot(xx, (w0+w1) *xx/2 + (b0+b1)/2, color='black')\n",
    "plt.plot(xx, (w2+w1) *xx/2 + (b2+b1)/2, color='black')\n",
    "colors = np.array(['red', 'blue', 'green'])\n",
    "\n",
    "x0 = X_train[:, 2]\n",
    "x1 = X_train[:, 3]\n",
    "plt.scatter(x0, x1, c=colors[y], s=20, edgecolors=\"k\")\n",
    "title = ('feature 3 vs 4 ')\n",
    "\n",
    "plt.xlabel(\"Feature 3\")\n",
    "plt.ylabel(\"Feature 4\")\n",
    "plt.ylim(0,2.5)\n",
    "\n",
    "plt.show()"
   ]
  },
  {
   "cell_type": "markdown",
   "metadata": {
    "id": "K0MdpOQ4IwYK"
   },
   "source": [
    "## Note:\n",
    "OK the plot above (second plot of feature 3 vs 4) seems to make a bit more sense than the first plot which cannot seperate classes at all. However, as we can see that in the plot of support vectors in the feature 3 and feature 4 space, the support vectors are not that 'spread out' on a line (like feature 2 and feature 3)."
   ]
  }
 ],
 "metadata": {
  "colab": {
   "provenance": []
  },
  "kernelspec": {
   "display_name": "Python 3 (ipykernel)",
   "language": "python",
   "name": "python3"
  },
  "language_info": {
   "codemirror_mode": {
    "name": "ipython",
    "version": 3
   },
   "file_extension": ".py",
   "mimetype": "text/x-python",
   "name": "python",
   "nbconvert_exporter": "python",
   "pygments_lexer": "ipython3",
   "version": "3.9.13"
  }
 },
 "nbformat": 4,
 "nbformat_minor": 1
}
