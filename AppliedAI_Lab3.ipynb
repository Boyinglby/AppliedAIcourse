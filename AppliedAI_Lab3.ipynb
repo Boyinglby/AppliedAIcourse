{
 "cells": [
  {
   "cell_type": "markdown",
   "id": "479e0f2f-ef53-4030-9574-da7b33801aac",
   "metadata": {},
   "source": [
    "# Hyperdimensional Centroid Language classification"
   ]
  },
  {
   "cell_type": "markdown",
   "id": "468b3824-7b0c-48e1-9f50-a2b9b95cb23a",
   "metadata": {},
   "source": [
    "Paper experiment setup: While in this study, in order to enable training of SOMs, each language corpus was divided into samples where the length of each sample was set to 1, 000 symbols. The data for each language was preprocessed such that the text included only lower case letters and spaces. All punctuation was removed. Lastly, all text used the 26-letter ISO basic Latin alphabet, i.e., the alphabet for both training and test data was the same and it included 27 symbols. "
   ]
  },
  {
   "cell_type": "code",
   "execution_count": 1,
   "id": "d2868945-ffa8-45c1-8dd8-064252d8aae0",
   "metadata": {},
   "outputs": [],
   "source": [
    "import re\n",
    "import numpy as np"
   ]
  },
  {
   "cell_type": "code",
   "execution_count": 2,
   "id": "baaed5ca-80e9-44d0-8c24-2ef515231c9b",
   "metadata": {},
   "outputs": [],
   "source": [
    "alphabet = 'abcdefghijklmnopqrstuvwxyz '  # 27 symbols including space\n",
    "alphabet_size = len(alphabet)\n",
    "hd_dimension1 = 100  \n",
    "hd_dimension2 = 1000"
   ]
  },
  {
   "cell_type": "code",
   "execution_count": 3,
   "id": "ea39213c-2a20-4e96-8261-80cc804def8f",
   "metadata": {},
   "outputs": [],
   "source": [
    "def ngrams(text, n=3):\n",
    "    ngrams = []\n",
    "    for i in range(len(text) - n + 1):\n",
    "        ngram = text[i:i + n]\n",
    "        ngrams.append(ngram)\n",
    "    \n",
    "    return ngrams\n"
   ]
  },
  {
   "cell_type": "code",
   "execution_count": 4,
   "id": "109ff75a-c984-4553-9b95-e23ff31e1906",
   "metadata": {},
   "outputs": [
    {
     "name": "stdout",
     "output_type": "stream",
     "text": [
      "Original text:\n",
      "4\tAh, dernier truc : l’idéal est de vider la cuisine d’un trait en prenant bien le temps de ranger et non pas petit à petit mais dans l’urgence comme j’ai fait car cela devient vite le bazar.\n",
      "\n",
      "Preprocessed text:\n",
      "ah dernier truc  lidal est de vider la cuisine dun trait en prenant bien le temps de ranger et non pas petit  petit mais dans lurgence comme jai fait car cela devient vite le bazar\n"
     ]
    }
   ],
   "source": [
    "def preprocess(text):\n",
    "    # Lowercase the text\n",
    "    text = text.lower()\n",
    "    text = re.sub(r'[^a-z ]', '', text)\n",
    "    return text\n",
    "\n",
    "example1 = '4\tAh, dernier truc : l’idéal est de vider la cuisine d’un trait en prenant bien le temps de ranger et non pas petit à petit mais dans l’urgence comme j’ai fait car cela devient vite le bazar.'\n",
    "processed_text1 = preprocess(example1)\n",
    "\n",
    "print(\"Original text:\")\n",
    "print(example1)\n",
    "print(\"\\nPreprocessed text:\")\n",
    "print(processed_text1)\n"
   ]
  },
  {
   "cell_type": "code",
   "execution_count": 5,
   "id": "6108ef59-c713-4e64-bbb0-bc328b7bbc35",
   "metadata": {},
   "outputs": [],
   "source": [
    "ngrams_example1 = ngrams(processed_text1)"
   ]
  },
  {
   "cell_type": "code",
   "execution_count": 6,
   "id": "8d97709e-0e20-426b-9639-1e3d241ddc16",
   "metadata": {},
   "outputs": [],
   "source": [
    "def initialize_hd_vectors(ngrams, d):\n",
    "    hd_vectors = {}\n",
    "    for ngram in ngrams:\n",
    "        hd_vectors[ngram] = np.random.choice([-1, 1], size=(d,))\n",
    "    return hd_vectors\n"
   ]
  },
  {
   "cell_type": "code",
   "execution_count": 7,
   "id": "8f140aae-32f9-4a0c-8018-a08b6b7babd5",
   "metadata": {},
   "outputs": [],
   "source": [
    "def init_memory(alphabet_size, hd_dimension):\n",
    "    H = np.random.choice([-1, 1], size=(hd_dimension, alphabet_size))\n",
    "    return H\n",
    "\n",
    "def get_hd_vector(symbol_index, item_memory):\n",
    "    # Retrieve the HD vector for the given symbol index from item memory H\n",
    "    return item_memory[:, symbol_index]\n"
   ]
  },
  {
   "cell_type": "code",
   "execution_count": 8,
   "id": "2f21a82f-eaf5-4263-9d5b-8b447ad59c96",
   "metadata": {},
   "outputs": [
    {
     "name": "stdout",
     "output_type": "stream",
     "text": [
      "Item memory (H):\n",
      "(100, 27)\n",
      "\n",
      "HD vector for symbol 'a' (H[a]):\n",
      "(100,)\n"
     ]
    }
   ],
   "source": [
    "# Initialize item memory\n",
    "item_memory = init_memory(alphabet_size, hd_dimension1)\n",
    "\n",
    "# Retrieve HD vector for a specific symbol (e.g., 'a')\n",
    "symbol_index = alphabet.index('a')\n",
    "hd_vector_a = get_hd_vector(symbol_index, item_memory)\n",
    "\n",
    "print(f\"Item memory (H):\\n{item_memory.shape}\")\n",
    "print(f\"\\nHD vector for symbol 'a' (H[a]):\\n{hd_vector_a.shape}\")"
   ]
  },
  {
   "cell_type": "code",
   "execution_count": 9,
   "id": "a5319458-14a0-4331-8902-44bc42af87b5",
   "metadata": {},
   "outputs": [],
   "source": [
    "def rho(hd_vector, times, shift=5):\n",
    "    if times == 0:\n",
    "        return hd_vector\n",
    "    else:\n",
    "        # Rotate the hd_vector by 'shift' positions\n",
    "        return rho(np.roll(hd_vector, shift), shift, times - 1)\n"
   ]
  },
  {
   "cell_type": "markdown",
   "id": "aba79141-a8b1-4226-9399-c4a0b76abbfc",
   "metadata": {},
   "source": [
    "# forming HD vector of an n-gram"
   ]
  },
  {
   "cell_type": "markdown",
   "id": "57e0396d-4309-445b-8a8c-251bef0c38b6",
   "metadata": {},
   "source": [
    "From paper: for the trigram ‘cba’ will be mapped to its HD vector as follows:\n",
    "ρ\n",
    "1\n",
    "(Hc) \f",
    " ρ\n",
    "2\n",
    "(Hb) \f",
    " ρ\n",
    "3\n",
    "(Ha) the process of forming HD vector of an n-gram can be formalized as follows"
   ]
  },
  {
   "cell_type": "code",
   "execution_count": 10,
   "id": "dc249baa-6259-49ec-9aeb-fda4e2b7e318",
   "metadata": {},
   "outputs": [
    {
     "name": "stdout",
     "output_type": "stream",
     "text": [
      "cab hd vector: [ 1. -1.  1. -1. -1.  1.  1. -1. -1. -1. -1.  1.  1. -1. -1. -1.  1.  1.\n",
      "  1. -1. -1. -1.  1. -1. -1. -1. -1.  1.  1. -1.  1. -1. -1. -1.  1.  1.\n",
      " -1. -1.  1.  1. -1.  1.  1.  1. -1.  1. -1.  1. -1. -1.  1. -1. -1.  1.\n",
      " -1. -1. -1.  1.  1.  1.  1.  1. -1. -1. -1. -1. -1.  1.  1.  1.  1. -1.\n",
      "  1. -1.  1.  1. -1.  1.  1. -1.  1.  1.  1.  1.  1. -1.  1. -1.  1. -1.\n",
      "  1.  1.  1.  1. -1. -1. -1.  1.  1. -1.]\n"
     ]
    }
   ],
   "source": [
    "def ngram_HD(ngram, hd_dimension):\n",
    "    ngram_hd = np.ones((hd_dimension,) )\n",
    "    for i in range(len(ngram)):\n",
    "        sym_idx = alphabet.index(ngram[i])\n",
    "        hd_vector = get_hd_vector(sym_idx, item_memory)\n",
    "        # apply i+1 times rho\n",
    "        hd_vector = rho(hd_vector, i+1)\n",
    "        ngram_hd = ngram_hd*hd_vector\n",
    "    return ngram_hd\n",
    "\n",
    "ngram_example = 'cba'\n",
    "example_output = ngram_HD(ngram_example, 100)\n",
    "print('cab hd vector:', example_output)"
   ]
  },
  {
   "cell_type": "markdown",
   "id": "bf1e1c67-b15a-4c3a-a6dd-d43de19b6196",
   "metadata": {},
   "source": [
    "# mapping the whole n-gram statistics s"
   ]
  },
  {
   "cell_type": "code",
   "execution_count": 11,
   "id": "6c2cc56a-68c3-4056-8fa1-71f81eefa796",
   "metadata": {},
   "outputs": [],
   "source": [
    "from collections import defaultdict\n",
    "\n",
    "def ngram_stat_h(ngrams, hd_dimension, n=3, alphabet_size=alphabet_size):\n",
    "\n",
    "    h = np.zeros((hd_dimension,))\n",
    "    # Initialize vector s\n",
    "    num_ngrams = alphabet_size ** n\n",
    "    s_i = np.zeros(num_ngrams)\n",
    "\n",
    "    # Create a mapping from n-gram to index in vector s\n",
    "    ngram_to_index = defaultdict(lambda: len(ngram_to_index))\n",
    "    \n",
    "    for ngram in ngrams:\n",
    "        index = ngram_to_index[ngram]\n",
    "        s_i[index] += 1\n",
    "        \n",
    "    for ngram in ngrams:    \n",
    "        ngram_hd = ngram_HD(ngram, hd_dimension)\n",
    "        h += s_i[ngram_to_index[ngram]]*ngram_hd\n",
    "    return h\n",
    "\n"
   ]
  },
  {
   "cell_type": "code",
   "execution_count": 12,
   "id": "1f2584de-e0bd-49df-b44d-09377fcb7513",
   "metadata": {},
   "outputs": [
    {
     "name": "stdout",
     "output_type": "stream",
     "text": [
      "a short sentence example n-gram statistics:\n",
      " [ -8.   8. -32.   8.   0.   0. -22. -38.  22. -20. -22. -20.  -6.  -2.\n",
      " -22. -20.  38.  16.  24.  16. -24. -52.  48.  14.  14.  50. -20. -14.\n",
      "  12. -24.  -4.   0. -10. -16. -16. -10.   6.  58. -24.  32.  -2. -14.\n",
      "  24.  28. -52.  22. -24. -68. -26. -10. -38.   4. -54.  46.  12.  42.\n",
      "  20. -36.  26.   6. -38.  54.  12. -18. -16. -26.  22.   2.  10.  66.\n",
      "  22.  46.  12.  26. -16. -32.  12.  26.  10.  -8. -10.  -8.  32. -14.\n",
      " -40.   6.   8. -40. -58. -62.  46.  72. -84.  -8. -12.  44.  26.  16.\n",
      "   6. -34.]\n"
     ]
    }
   ],
   "source": [
    "example1_h_stat = ngram_stat_h(ngrams_example1, hd_dimension1)\n",
    "print('a short sentence example n-gram statistics:\\n', example1_h_stat)"
   ]
  },
  {
   "cell_type": "code",
   "execution_count": 27,
   "id": "249141c5-c851-4090-8861-84acc503f18c",
   "metadata": {},
   "outputs": [
    {
     "name": "stdout",
     "output_type": "stream",
     "text": [
      "\n",
      "L2 norm of the array:\n",
      "303.84864653310535\n",
      "\n",
      "Normalized array:\n",
      "[-0.0263289   0.0263289  -0.10531559  0.0263289   0.          0.\n",
      " -0.07240447 -0.12506227  0.07240447 -0.06582224 -0.07240447 -0.06582224\n",
      " -0.01974667 -0.00658222 -0.07240447 -0.06582224  0.12506227  0.0526578\n",
      "  0.07898669  0.0526578  -0.07898669 -0.17113784  0.15797339  0.04607557\n",
      "  0.04607557  0.16455561 -0.06582224 -0.04607557  0.03949335 -0.07898669\n",
      " -0.01316445  0.         -0.03291112 -0.0526578  -0.0526578  -0.03291112\n",
      "  0.01974667  0.19088451 -0.07898669  0.10531559 -0.00658222 -0.04607557\n",
      "  0.07898669  0.09215114 -0.17113784  0.07240447 -0.07898669 -0.22379563\n",
      " -0.08556892 -0.03291112 -0.12506227  0.01316445 -0.17772006  0.15139116\n",
      "  0.03949335  0.13822671  0.06582224 -0.11848004  0.08556892  0.01974667\n",
      " -0.12506227  0.17772006  0.03949335 -0.05924002 -0.0526578  -0.08556892\n",
      "  0.07240447  0.00658222  0.03291112  0.21721341  0.07240447  0.15139116\n",
      "  0.03949335  0.08556892 -0.0526578  -0.10531559  0.03949335  0.08556892\n",
      "  0.03291112 -0.0263289  -0.03291112 -0.0263289   0.10531559 -0.04607557\n",
      " -0.13164449  0.01974667  0.0263289  -0.13164449 -0.19088451 -0.20404896\n",
      "  0.15139116  0.23696008 -0.27645343 -0.0263289  -0.03949335  0.14480894\n",
      "  0.08556892  0.0526578   0.01974667 -0.11189782]\n"
     ]
    }
   ],
   "source": [
    "l2_norm_example1 = np.linalg.norm(example1_h_stat)\n",
    "\n",
    "normalized_array = example1_h_stat / l2_norm_example1\n",
    "\n",
    "print(\"\\nL2 norm of the array:\")\n",
    "print(l2_norm_example1)\n",
    "print(\"\\nNormalized array:\")\n",
    "print(normalized_array)\n"
   ]
  },
  {
   "cell_type": "markdown",
   "id": "ca104ade-b819-4229-b5dd-1d4f6912934f",
   "metadata": {},
   "source": [
    "# 21 languages centroid HD"
   ]
  },
  {
   "cell_type": "code",
   "execution_count": 31,
   "id": "c1a2acba-700c-4353-a105-4fc5bee40bae",
   "metadata": {},
   "outputs": [],
   "source": [
    "def read_sentences(file_path):\n",
    "    with open(file_path, 'r', encoding='utf-8') as file:\n",
    "        sentences = file.readlines()\n",
    "    return sentences"
   ]
  },
  {
   "cell_type": "code",
   "execution_count": 37,
   "id": "18af28e5-9e44-4524-9126-6f61178a7d45",
   "metadata": {},
   "outputs": [],
   "source": [
    "def pick_random_sentences(sentences, num_sentences=1000):\n",
    "    return random.sample(sentences, min(num_sentences, len(sentences)))"
   ]
  },
  {
   "cell_type": "code",
   "execution_count": 63,
   "id": "cf1ab9b7-0d4d-4252-9681-8113f31967d3",
   "metadata": {},
   "outputs": [],
   "source": [
    "import os\n",
    "import random\n",
    "\n",
    "folder_path = './news'\n",
    "\n",
    "def HD_centroid_1(hd_dimension):\n",
    "    # Initialize item memory\n",
    "    item_memory = init_memory(alphabet_size, hd_dimension)\n",
    "\n",
    "    HD_centroids = {}\n",
    "    for filename in os.listdir(folder_path):\n",
    "        if filename.endswith('.txt'):\n",
    "            file_path = os.path.join(folder_path, filename)\n",
    "            with open(file_path, 'r', encoding='utf-8') as file:\n",
    "                text = file.read()\n",
    "                preprocessed_text = preprocess(text)\n",
    "                ngrams_text = ngrams(preprocessed_text)\n",
    "                h_stat = ngram_stat_h(ngrams_text, hd_dimension)\n",
    "                # L2 normalize h\n",
    "                l2_norm = np.linalg.norm(h_stat)\n",
    "                normed_h = h_stat / l2_norm\n",
    "                HD_centroids[filename.split('_')[0]] = normed_h\n",
    "    return HD_centroids\n",
    "\n",
    "def HD_centroid(hd_dimension):\n",
    "    # Initialize item memory\n",
    "    item_memory = init_memory(alphabet_size, hd_dimension)\n",
    "\n",
    "    HD_centroids = {}\n",
    "    for filename in os.listdir(folder_path):\n",
    "        if filename.endswith('.txt'):\n",
    "            centroid = []\n",
    "            file_path = os.path.join(folder_path, filename)\n",
    "            sentences = read_sentences(file_path)\n",
    "            sentences = pick_random_sentences(sentences, num_sentences=1000)\n",
    "            for sentence in sentences:\n",
    "                preprocessed_sentence = preprocess(sentence)\n",
    "                ngrams_sentence = ngrams(preprocessed_sentence)\n",
    "                h_stat = ngram_stat_h(ngrams_sentence, hd_dimension)\n",
    "                # L2 normalize h\n",
    "                epsilon = 1e-4\n",
    "                l2_norm = np.linalg.norm(h_stat)\n",
    "                normed_h = h_stat / (l2_norm + epsilon)\n",
    "                centroid.append(normed_h)\n",
    "            mean = np.mean(np.array(centroid), axis=0)\n",
    "            HD_centroids[filename.split('_')[0]] = mean\n",
    "            print(f'Language: {filename.split('_')[0]} HD centroid is generated')\n",
    "    return HD_centroids"
   ]
  },
  {
   "cell_type": "code",
   "execution_count": 64,
   "id": "18a48209-7f9f-4b15-9668-9d56ab8306df",
   "metadata": {},
   "outputs": [
    {
     "name": "stdout",
     "output_type": "stream",
     "text": [
      "Language: bul HD centroid is generated\n",
      "Language: ces HD centroid is generated\n",
      "Language: dan HD centroid is generated\n",
      "Language: deu HD centroid is generated\n",
      "Language: ell HD centroid is generated\n",
      "Language: eng HD centroid is generated\n",
      "Language: est HD centroid is generated\n",
      "Language: fin HD centroid is generated\n",
      "Language: fra HD centroid is generated\n",
      "Language: hun HD centroid is generated\n",
      "Language: ita HD centroid is generated\n",
      "Language: lav HD centroid is generated\n",
      "Language: lit-lit HD centroid is generated\n",
      "Language: nld HD centroid is generated\n",
      "Language: pol HD centroid is generated\n",
      "Language: por HD centroid is generated\n",
      "Language: ron HD centroid is generated\n",
      "Language: slk HD centroid is generated\n",
      "Language: slv HD centroid is generated\n",
      "Language: spa HD centroid is generated\n",
      "Language: swe HD centroid is generated\n"
     ]
    }
   ],
   "source": [
    "HD_centroids_100dimension = HD_centroid(hd_dimension1)"
   ]
  },
  {
   "cell_type": "code",
   "execution_count": 65,
   "id": "57f5ef1f-1eaa-4365-adf0-0cfdee30189a",
   "metadata": {},
   "outputs": [
    {
     "name": "stdout",
     "output_type": "stream",
     "text": [
      "Dictionary saved to HD_centroids_100dimension.pkl\n"
     ]
    }
   ],
   "source": [
    "import pickle\n",
    "\n",
    "with open('HD_centroids_100dimension.pkl', 'wb') as f:\n",
    "    pickle.dump(HD_centroids_100dimension, f)\n",
    "\n",
    "print(\"Dictionary saved to HD_centroids_100dimension.pkl\")\n"
   ]
  },
  {
   "cell_type": "code",
   "execution_count": 66,
   "id": "0ea6bc47-4efd-4148-9092-fd57459fac80",
   "metadata": {},
   "outputs": [
    {
     "name": "stdout",
     "output_type": "stream",
     "text": [
      "Italian HD cenroid vector:\n",
      "\n"
     ]
    },
    {
     "data": {
      "text/plain": [
       "array([ 0.01090108,  0.08566247, -0.02646928, -0.01193203,  0.00256517,\n",
       "       -0.02918485,  0.01382562, -0.01469623,  0.0321326 , -0.03872871,\n",
       "        0.06623449, -0.01312025, -0.00586137, -0.00469706,  0.02872543,\n",
       "        0.00489514,  0.01251363, -0.0038832 ,  0.01833483,  0.00967444,\n",
       "       -0.01364578,  0.01118   ,  0.01397018, -0.02137935, -0.01227579,\n",
       "        0.02478084, -0.03249292, -0.00836385,  0.04203523, -0.01865708,\n",
       "        0.00075424,  0.01881816,  0.03630089,  0.02538361, -0.01925239,\n",
       "        0.00211136,  0.00371725,  0.03956649,  0.00446612, -0.0318339 ,\n",
       "        0.00283472, -0.04907745,  0.00483597,  0.00151961, -0.02528929,\n",
       "        0.00447018, -0.03767264,  0.00542936, -0.00886847, -0.02129426,\n",
       "        0.04042387, -0.0055643 , -0.03544944,  0.01644598, -0.04382651,\n",
       "       -0.01559918, -0.007228  , -0.01165462,  0.09678338,  0.0129941 ,\n",
       "        0.00857646, -0.00732188, -0.02434546,  0.03468858,  0.00429537,\n",
       "       -0.04575419, -0.02184909,  0.03261962,  0.0522965 ,  0.00724072,\n",
       "        0.00328113,  0.03017943,  0.02936983, -0.00254864,  0.00018385,\n",
       "       -0.03137108, -0.01935939, -0.0049026 , -0.05526033,  0.02836279,\n",
       "       -0.05282246,  0.01140991, -0.00995891, -0.00051425, -0.01894342,\n",
       "       -0.00927332,  0.0126594 ,  0.00536091, -0.05683686, -0.01296865,\n",
       "       -0.04192994,  0.04973398, -0.00733047,  0.02246351, -0.0265624 ,\n",
       "        0.0508511 ,  0.01891747, -0.0113974 , -0.02067581,  0.01662701])"
      ]
     },
     "execution_count": 66,
     "metadata": {},
     "output_type": "execute_result"
    }
   ],
   "source": [
    "print('Italian HD cenroid vector:\\n')\n",
    "HD_centroids_100dimension['ita']"
   ]
  },
  {
   "cell_type": "markdown",
   "id": "3c879353-7aa0-4509-a142-e49319188f24",
   "metadata": {},
   "source": [
    "# Test phase using Europarl Parallel Corpus"
   ]
  },
  {
   "cell_type": "code",
   "execution_count": 67,
   "id": "e677950b-b6f0-43c0-a04a-d60986bb58f6",
   "metadata": {},
   "outputs": [],
   "source": [
    "# Load the dictionary from the file\n",
    "with open('HD_centroids_100dimension.pkl', 'rb') as f:\n",
    "    loaded_HD_centroid = pickle.load(f)\n",
    "\n",
    "\n"
   ]
  },
  {
   "cell_type": "code",
   "execution_count": 68,
   "id": "f74a5ba3-810e-430a-a930-383cec09467c",
   "metadata": {},
   "outputs": [],
   "source": [
    "test_path = './finaltest'\n",
    "\n",
    "def cosine_similarity(a, b):\n",
    "    dot_product = np.dot(a, b)\n",
    "    norm_a = np.linalg.norm(a)\n",
    "    norm_b = np.linalg.norm(b)\n",
    "    return dot_product / (norm_a * norm_b)\n",
    "    \n",
    "def cosine_classify(test_path, centroids, hd_dimension):\n",
    "    confusion_matrix = {}\n",
    "    for filename in os.listdir(test_path):\n",
    "        file_path = os.path.join(test_path, filename)\n",
    "        sentences = read_sentences(file_path)\n",
    "        sentences = pick_random_sentences(sentences, num_sentences=100)\n",
    "        confusion_matrix[filename] = []\n",
    "        \n",
    "        for sentence in sentences:\n",
    "            preprocessed_sentence = preprocess(sentence)\n",
    "            ngrams_sentence = ngrams(preprocessed_sentence)\n",
    "            h_stat = ngram_stat_h(ngrams_sentence, hd_dimension)\n",
    "            # L2 normalize h\n",
    "            l2_norm = np.linalg.norm(h_stat)\n",
    "            epsilon = 1e-4\n",
    "            normed_h = h_stat / (l2_norm + epsilon)\n",
    "            \n",
    "            for label, centroid in centroids.items():\n",
    "                similarity[label] = cosine_similarity(normed_h, centroid)\n",
    "    return similarity\n"
   ]
  },
  {
   "cell_type": "code",
   "execution_count": 69,
   "id": "8ef6ed1e-86cd-4f04-83c9-1edf2f5dcd40",
   "metadata": {},
   "outputs": [],
   "source": [
    "similarity = cosine_classify(test_path, HD_centroids_100dimension, hd_dimension1)"
   ]
  },
  {
   "cell_type": "code",
   "execution_count": 70,
   "id": "10b032e9-639d-40cc-8ab6-efb42b2bb29b",
   "metadata": {},
   "outputs": [
    {
     "data": {
      "text/plain": [
       "'swe'"
      ]
     },
     "execution_count": 70,
     "metadata": {},
     "output_type": "execute_result"
    }
   ],
   "source": [
    "pred = max(similarity, key=similarity.get)\n",
    "pred"
   ]
  },
  {
   "cell_type": "code",
   "execution_count": null,
   "id": "7a1b79d7-a9d1-42a6-a29f-42daf17ea985",
   "metadata": {},
   "outputs": [],
   "source": []
  }
 ],
 "metadata": {
  "kernelspec": {
   "display_name": "Python 3 (ipykernel)",
   "language": "python",
   "name": "python3"
  },
  "language_info": {
   "codemirror_mode": {
    "name": "ipython",
    "version": 3
   },
   "file_extension": ".py",
   "mimetype": "text/x-python",
   "name": "python",
   "nbconvert_exporter": "python",
   "pygments_lexer": "ipython3",
   "version": "3.12.3"
  }
 },
 "nbformat": 4,
 "nbformat_minor": 5
}
